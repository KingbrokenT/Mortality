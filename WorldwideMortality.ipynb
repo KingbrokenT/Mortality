{
 "cells": [
  {
   "cell_type": "markdown",
   "id": "ab8b017f",
   "metadata": {},
   "source": [
    "Here we have the morality data for mortality from the World happiness report. \n",
    "\n",
    "Source: https://www.kaggle.com/johnharshith/world-happiness-report-2021-worldwide-mortality\n",
    "\n",
    "Here, we will investigate the links between covid mortality and these other variables\n",
    "\n",
    "SARS countries are China, Hong Kong, Canada, Vietnam, Singapore and Taiwan"
   ]
  },
  {
   "cell_type": "code",
   "execution_count": 1,
   "id": "74b28eb4",
   "metadata": {},
   "outputs": [],
   "source": [
    "import numpy as np\n",
    "import pandas as pd\n",
    "import matplotlib.pyplot as plt\n",
    "import seaborn as sns"
   ]
  },
  {
   "cell_type": "code",
   "execution_count": 2,
   "id": "7dff4d24",
   "metadata": {},
   "outputs": [],
   "source": [
    "df = pd.read_csv('C:\\\\Users\\\\Taylor\\\\Documents\\\\ProgramsAndScripts\\\\DataSets\\\\WHRData2021.csv')"
   ]
  },
  {
   "cell_type": "code",
   "execution_count": 3,
   "id": "1a3c15af",
   "metadata": {},
   "outputs": [
    {
     "data": {
      "text/html": [
       "<div>\n",
       "<style scoped>\n",
       "    .dataframe tbody tr th:only-of-type {\n",
       "        vertical-align: middle;\n",
       "    }\n",
       "\n",
       "    .dataframe tbody tr th {\n",
       "        vertical-align: top;\n",
       "    }\n",
       "\n",
       "    .dataframe thead th {\n",
       "        text-align: right;\n",
       "    }\n",
       "</style>\n",
       "<table border=\"1\" class=\"dataframe\">\n",
       "  <thead>\n",
       "    <tr style=\"text-align: right;\">\n",
       "      <th></th>\n",
       "      <th>Country name</th>\n",
       "      <th>Population 2020</th>\n",
       "      <th>Population 2019</th>\n",
       "      <th>COVID-19 deaths per 100,000 population in 2020</th>\n",
       "      <th>Median age</th>\n",
       "      <th>Island</th>\n",
       "      <th>Index of exposure to COVID-19  infections in other countries as of March 31</th>\n",
       "      <th>Log of average distance to SARS countries</th>\n",
       "      <th>WHO Western Pacific Region</th>\n",
       "      <th>Female head of government</th>\n",
       "      <th>Index of institutional trust</th>\n",
       "      <th>Gini coefficient of income</th>\n",
       "      <th>All-cause death count, 2017</th>\n",
       "      <th>All-cause death count, 2018</th>\n",
       "      <th>All-cause death count, 2019</th>\n",
       "      <th>All-cause death count, 2020</th>\n",
       "      <th>Excess deaths in 2020 per 100,000 population, relative to 2017-2019 average</th>\n",
       "    </tr>\n",
       "  </thead>\n",
       "  <tbody>\n",
       "    <tr>\n",
       "      <th>0</th>\n",
       "      <td>United States</td>\n",
       "      <td>331002647.0</td>\n",
       "      <td>328239523.0</td>\n",
       "      <td>104.451</td>\n",
       "      <td>38.3</td>\n",
       "      <td>0</td>\n",
       "      <td>1.688</td>\n",
       "      <td>9.315</td>\n",
       "      <td>0</td>\n",
       "      <td>0</td>\n",
       "      <td>0.250</td>\n",
       "      <td>47.51</td>\n",
       "      <td>2810927.0</td>\n",
       "      <td>2839076.0</td>\n",
       "      <td>2852747.0</td>\n",
       "      <td>3424996.0</td>\n",
       "      <td>179.22</td>\n",
       "    </tr>\n",
       "    <tr>\n",
       "      <th>1</th>\n",
       "      <td>Egypt</td>\n",
       "      <td>102334403.0</td>\n",
       "      <td>100388073.0</td>\n",
       "      <td>7.457</td>\n",
       "      <td>25.3</td>\n",
       "      <td>0</td>\n",
       "      <td>1.627</td>\n",
       "      <td>9.007</td>\n",
       "      <td>0</td>\n",
       "      <td>0</td>\n",
       "      <td>0.446</td>\n",
       "      <td>31.56</td>\n",
       "      <td>NaN</td>\n",
       "      <td>NaN</td>\n",
       "      <td>NaN</td>\n",
       "      <td>NaN</td>\n",
       "      <td>NaN</td>\n",
       "    </tr>\n",
       "    <tr>\n",
       "      <th>2</th>\n",
       "      <td>Morocco</td>\n",
       "      <td>36910558.0</td>\n",
       "      <td>36471769.0</td>\n",
       "      <td>20.016</td>\n",
       "      <td>29.6</td>\n",
       "      <td>0</td>\n",
       "      <td>2.336</td>\n",
       "      <td>9.226</td>\n",
       "      <td>0</td>\n",
       "      <td>0</td>\n",
       "      <td>0.397</td>\n",
       "      <td>39.55</td>\n",
       "      <td>NaN</td>\n",
       "      <td>NaN</td>\n",
       "      <td>NaN</td>\n",
       "      <td>NaN</td>\n",
       "      <td>NaN</td>\n",
       "    </tr>\n",
       "    <tr>\n",
       "      <th>3</th>\n",
       "      <td>Lebanon</td>\n",
       "      <td>6825442.0</td>\n",
       "      <td>6855713.0</td>\n",
       "      <td>21.508</td>\n",
       "      <td>31.1</td>\n",
       "      <td>0</td>\n",
       "      <td>1.891</td>\n",
       "      <td>8.956</td>\n",
       "      <td>0</td>\n",
       "      <td>0</td>\n",
       "      <td>0.107</td>\n",
       "      <td>31.83</td>\n",
       "      <td>NaN</td>\n",
       "      <td>NaN</td>\n",
       "      <td>NaN</td>\n",
       "      <td>NaN</td>\n",
       "      <td>NaN</td>\n",
       "    </tr>\n",
       "    <tr>\n",
       "      <th>4</th>\n",
       "      <td>Saudi Arabia</td>\n",
       "      <td>34813867.0</td>\n",
       "      <td>34268528.0</td>\n",
       "      <td>17.875</td>\n",
       "      <td>31.9</td>\n",
       "      <td>0</td>\n",
       "      <td>1.250</td>\n",
       "      <td>8.897</td>\n",
       "      <td>0</td>\n",
       "      <td>0</td>\n",
       "      <td>0.651</td>\n",
       "      <td>45.90</td>\n",
       "      <td>NaN</td>\n",
       "      <td>NaN</td>\n",
       "      <td>NaN</td>\n",
       "      <td>NaN</td>\n",
       "      <td>NaN</td>\n",
       "    </tr>\n",
       "  </tbody>\n",
       "</table>\n",
       "</div>"
      ],
      "text/plain": [
       "    Country name  Population 2020  Population 2019  \\\n",
       "0  United States      331002647.0      328239523.0   \n",
       "1          Egypt      102334403.0      100388073.0   \n",
       "2        Morocco       36910558.0       36471769.0   \n",
       "3        Lebanon        6825442.0        6855713.0   \n",
       "4   Saudi Arabia       34813867.0       34268528.0   \n",
       "\n",
       "   COVID-19 deaths per 100,000 population in 2020  Median age  Island  \\\n",
       "0                                         104.451        38.3       0   \n",
       "1                                           7.457        25.3       0   \n",
       "2                                          20.016        29.6       0   \n",
       "3                                          21.508        31.1       0   \n",
       "4                                          17.875        31.9       0   \n",
       "\n",
       "   Index of exposure to COVID-19  infections in other countries as of March 31  \\\n",
       "0                                              1.688                             \n",
       "1                                              1.627                             \n",
       "2                                              2.336                             \n",
       "3                                              1.891                             \n",
       "4                                              1.250                             \n",
       "\n",
       "   Log of average distance to SARS countries  WHO Western Pacific Region  \\\n",
       "0                                      9.315                           0   \n",
       "1                                      9.007                           0   \n",
       "2                                      9.226                           0   \n",
       "3                                      8.956                           0   \n",
       "4                                      8.897                           0   \n",
       "\n",
       "   Female head of government  Index of institutional trust  \\\n",
       "0                          0                         0.250   \n",
       "1                          0                         0.446   \n",
       "2                          0                         0.397   \n",
       "3                          0                         0.107   \n",
       "4                          0                         0.651   \n",
       "\n",
       "   Gini coefficient of income  All-cause death count, 2017  \\\n",
       "0                       47.51                    2810927.0   \n",
       "1                       31.56                          NaN   \n",
       "2                       39.55                          NaN   \n",
       "3                       31.83                          NaN   \n",
       "4                       45.90                          NaN   \n",
       "\n",
       "   All-cause death count, 2018  All-cause death count, 2019  \\\n",
       "0                    2839076.0                    2852747.0   \n",
       "1                          NaN                          NaN   \n",
       "2                          NaN                          NaN   \n",
       "3                          NaN                          NaN   \n",
       "4                          NaN                          NaN   \n",
       "\n",
       "   All-cause death count, 2020  \\\n",
       "0                    3424996.0   \n",
       "1                          NaN   \n",
       "2                          NaN   \n",
       "3                          NaN   \n",
       "4                          NaN   \n",
       "\n",
       "   Excess deaths in 2020 per 100,000 population, relative to 2017-2019 average  \n",
       "0                                             179.22                            \n",
       "1                                                NaN                            \n",
       "2                                                NaN                            \n",
       "3                                                NaN                            \n",
       "4                                                NaN                            "
      ]
     },
     "execution_count": 3,
     "metadata": {},
     "output_type": "execute_result"
    }
   ],
   "source": [
    "df.head()"
   ]
  },
  {
   "cell_type": "code",
   "execution_count": 4,
   "id": "9854ae89",
   "metadata": {},
   "outputs": [
    {
     "data": {
      "text/plain": [
       "166"
      ]
     },
     "execution_count": 4,
     "metadata": {},
     "output_type": "execute_result"
    }
   ],
   "source": [
    "len(df)"
   ]
  },
  {
   "cell_type": "code",
   "execution_count": 5,
   "id": "6749c25e",
   "metadata": {},
   "outputs": [
    {
     "data": {
      "text/plain": [
       "Country name                                                                     0\n",
       "Population 2020                                                                  2\n",
       "Population 2019                                                                  2\n",
       "COVID-19 deaths per 100,000 population in 2020                                   3\n",
       "Median age                                                                       3\n",
       "Island                                                                           0\n",
       "Index of exposure to COVID-19  infections in other countries as of March 31      2\n",
       "Log of average distance to SARS countries                                        2\n",
       "WHO Western Pacific Region                                                       0\n",
       "Female head of government                                                        0\n",
       "Index of institutional trust                                                     1\n",
       "Gini coefficient of income                                                       2\n",
       "All-cause death count, 2017                                                    103\n",
       "All-cause death count, 2018                                                    102\n",
       "All-cause death count, 2019                                                    102\n",
       "All-cause death count, 2020                                                    101\n",
       "Excess deaths in 2020 per 100,000 population, relative to 2017-2019 average    102\n",
       "dtype: int64"
      ]
     },
     "execution_count": 5,
     "metadata": {},
     "output_type": "execute_result"
    }
   ],
   "source": [
    "df.isna().sum()"
   ]
  },
  {
   "cell_type": "markdown",
   "id": "3f344741",
   "metadata": {},
   "source": [
    "Clearly, there is some missing data here. Essentially every data field we would need to compare death counts across years is missing so we can't see how many more deaths we had in 2020 relative to other other years. Instead of doing this, we will be looking at the other bits of the data. We will also check to see if the Items missing median age and island are the same ones missing the other bits of data."
   ]
  },
  {
   "cell_type": "code",
   "execution_count": 8,
   "id": "2a4762f1",
   "metadata": {},
   "outputs": [
    {
     "data": {
      "text/plain": [
       "Country name                                                                   0\n",
       "Population 2020                                                                2\n",
       "Population 2019                                                                2\n",
       "COVID-19 deaths per 100,000 population in 2020                                 3\n",
       "Median age                                                                     3\n",
       "Island                                                                         0\n",
       "Index of exposure to COVID-19  infections in other countries as of March 31    2\n",
       "Log of average distance to SARS countries                                      2\n",
       "WHO Western Pacific Region                                                     0\n",
       "Female head of government                                                      0\n",
       "Index of institutional trust                                                   1\n",
       "Gini coefficient of income                                                     2\n",
       "dtype: int64"
      ]
     },
     "execution_count": 8,
     "metadata": {},
     "output_type": "execute_result"
    }
   ],
   "source": [
    "labels = ['All-cause death count, 2017','All-cause death count, 2018','All-cause death count, 2019','All-cause death count, 2020','Excess deaths in 2020 per 100,000 population, relative to 2017-2019 average']\n",
    "df.drop(labels = labels, axis = 'columns',inplace = True)\n",
    "df.isna().sum()"
   ]
  },
  {
   "cell_type": "code",
   "execution_count": 9,
   "id": "0221580c",
   "metadata": {},
   "outputs": [
    {
     "data": {
      "text/html": [
       "<div>\n",
       "<style scoped>\n",
       "    .dataframe tbody tr th:only-of-type {\n",
       "        vertical-align: middle;\n",
       "    }\n",
       "\n",
       "    .dataframe tbody tr th {\n",
       "        vertical-align: top;\n",
       "    }\n",
       "\n",
       "    .dataframe thead th {\n",
       "        text-align: right;\n",
       "    }\n",
       "</style>\n",
       "<table border=\"1\" class=\"dataframe\">\n",
       "  <thead>\n",
       "    <tr style=\"text-align: right;\">\n",
       "      <th></th>\n",
       "      <th>Country name</th>\n",
       "      <th>Population 2020</th>\n",
       "      <th>Population 2019</th>\n",
       "      <th>COVID-19 deaths per 100,000 population in 2020</th>\n",
       "      <th>Median age</th>\n",
       "      <th>Island</th>\n",
       "      <th>Index of exposure to COVID-19  infections in other countries as of March 31</th>\n",
       "      <th>Log of average distance to SARS countries</th>\n",
       "      <th>WHO Western Pacific Region</th>\n",
       "      <th>Female head of government</th>\n",
       "      <th>Index of institutional trust</th>\n",
       "      <th>Gini coefficient of income</th>\n",
       "    </tr>\n",
       "  </thead>\n",
       "  <tbody>\n",
       "    <tr>\n",
       "      <th>157</th>\n",
       "      <td>Turkmenistan</td>\n",
       "      <td>5942089.0</td>\n",
       "      <td>5942089.0</td>\n",
       "      <td>NaN</td>\n",
       "      <td>NaN</td>\n",
       "      <td>0</td>\n",
       "      <td>1.463</td>\n",
       "      <td>8.735</td>\n",
       "      <td>0</td>\n",
       "      <td>0</td>\n",
       "      <td>0.511</td>\n",
       "      <td>26.5</td>\n",
       "    </tr>\n",
       "    <tr>\n",
       "      <th>163</th>\n",
       "      <td>Somaliland region</td>\n",
       "      <td>NaN</td>\n",
       "      <td>NaN</td>\n",
       "      <td>NaN</td>\n",
       "      <td>NaN</td>\n",
       "      <td>0</td>\n",
       "      <td>NaN</td>\n",
       "      <td>NaN</td>\n",
       "      <td>0</td>\n",
       "      <td>0</td>\n",
       "      <td>NaN</td>\n",
       "      <td>NaN</td>\n",
       "    </tr>\n",
       "    <tr>\n",
       "      <th>164</th>\n",
       "      <td>North Cyprus</td>\n",
       "      <td>NaN</td>\n",
       "      <td>NaN</td>\n",
       "      <td>NaN</td>\n",
       "      <td>NaN</td>\n",
       "      <td>0</td>\n",
       "      <td>NaN</td>\n",
       "      <td>NaN</td>\n",
       "      <td>0</td>\n",
       "      <td>0</td>\n",
       "      <td>0.305</td>\n",
       "      <td>NaN</td>\n",
       "    </tr>\n",
       "  </tbody>\n",
       "</table>\n",
       "</div>"
      ],
      "text/plain": [
       "          Country name  Population 2020  Population 2019  \\\n",
       "157       Turkmenistan        5942089.0        5942089.0   \n",
       "163  Somaliland region              NaN              NaN   \n",
       "164       North Cyprus              NaN              NaN   \n",
       "\n",
       "     COVID-19 deaths per 100,000 population in 2020  Median age  Island  \\\n",
       "157                                             NaN         NaN       0   \n",
       "163                                             NaN         NaN       0   \n",
       "164                                             NaN         NaN       0   \n",
       "\n",
       "     Index of exposure to COVID-19  infections in other countries as of March 31  \\\n",
       "157                                              1.463                             \n",
       "163                                                NaN                             \n",
       "164                                                NaN                             \n",
       "\n",
       "     Log of average distance to SARS countries  WHO Western Pacific Region  \\\n",
       "157                                      8.735                           0   \n",
       "163                                        NaN                           0   \n",
       "164                                        NaN                           0   \n",
       "\n",
       "     Female head of government  Index of institutional trust  \\\n",
       "157                          0                         0.511   \n",
       "163                          0                           NaN   \n",
       "164                          0                         0.305   \n",
       "\n",
       "     Gini coefficient of income  \n",
       "157                        26.5  \n",
       "163                         NaN  \n",
       "164                         NaN  "
      ]
     },
     "execution_count": 9,
     "metadata": {},
     "output_type": "execute_result"
    }
   ],
   "source": [
    "df[df['Median age'].isna()]"
   ]
  },
  {
   "cell_type": "markdown",
   "id": "e64c0c7d",
   "metadata": {},
   "source": [
    "Importantly, we are missing here the Covid deaths per 100,000. This might mean that there are no recorded deaths or that this source lacked the information. In any case, while we might be able to fill in some of this information by finding other sources, we don't want to mix and match our sources for this project. Therefore, we are going to drop these nations."
   ]
  },
  {
   "cell_type": "code",
   "execution_count": 11,
   "id": "2815f254",
   "metadata": {},
   "outputs": [
    {
     "data": {
      "text/plain": [
       "Country name                                                                   0\n",
       "Population 2020                                                                0\n",
       "Population 2019                                                                0\n",
       "COVID-19 deaths per 100,000 population in 2020                                 0\n",
       "Median age                                                                     0\n",
       "Island                                                                         0\n",
       "Index of exposure to COVID-19  infections in other countries as of March 31    0\n",
       "Log of average distance to SARS countries                                      0\n",
       "WHO Western Pacific Region                                                     0\n",
       "Female head of government                                                      0\n",
       "Index of institutional trust                                                   0\n",
       "Gini coefficient of income                                                     0\n",
       "dtype: int64"
      ]
     },
     "execution_count": 11,
     "metadata": {},
     "output_type": "execute_result"
    }
   ],
   "source": [
    "labels = [157,163,164]\n",
    "df.drop(labels = labels, axis = 'index', inplace = True)\n",
    "df.isna().sum()"
   ]
  },
  {
   "cell_type": "markdown",
   "id": "6c87efed",
   "metadata": {},
   "source": [
    "Now we aren't missing anything. \n",
    "\n",
    "First we will sort this by COVID deaths per 100,000 in 2020 to see which nations were most affected by the pandemic. We will then show these results in a vertical bar chart."
   ]
  },
  {
   "cell_type": "code",
   "execution_count": 20,
   "id": "69be1990",
   "metadata": {},
   "outputs": [
    {
     "data": {
      "image/png": "[encoded data removed]",
      "text/plain": [
       "<Figure size 576x2160 with 1 Axes>"
      ]
     },
     "metadata": {
      "needs_background": "light"
     },
     "output_type": "display_data"
    }
   ],
   "source": [
    "df.sort_values(by = 'COVID-19 deaths per 100,000 population in 2020', ascending = True).plot(figsize = (8,30),kind = 'barh',x = 'Country name', y = 'COVID-19 deaths per 100,000 population in 2020')\n",
    "plt.show()"
   ]
  },
  {
   "cell_type": "markdown",
   "id": "192e096e",
   "metadata": {},
   "source": [
    "One large issue with this data is thatit is likely true that this data only includes confirmed Covid cases rather than an estimate of Covid deaths. This is reasonable but is going to result in some inaccurate measures of nations with poor testing infrasturcture or who are inaccurately reporting their COVID numbers. A better measure would be excess deaths compared to pre-pandemic times, but we don't have that (in fact we just dropped those rows because they didn't have any data).\n",
    "\n",
    "A good start here is going to be to look at a pairplot to check the different correlations between the numberic variables. We actually don't need both Population 2020 and 2019 as they give us the same information"
   ]
  },
  {
   "cell_type": "code",
   "execution_count": 25,
   "id": "5514ee4a",
   "metadata": {},
   "outputs": [
    {
     "data": {
      "text/plain": [
       "<seaborn.axisgrid.PairGrid at 0x24c73fc0430>"
      ]
     },
     "execution_count": 25,
     "metadata": {},
     "output_type": "execute_result"
    },
    {
     "data": {
      "image/png": "[encoded data removed]",
      "text/plain": [
       "<Figure size 1260x1260 with 56 Axes>"
      ]
     },
     "metadata": {
      "needs_background": "light"
     },
     "output_type": "display_data"
    }
   ],
   "source": [
    "labels = ['Population 2020', 'COVID-19 deaths per 100,000 population in 2020', 'Median age', 'Index of exposure to COVID-19  infections in other countries as of March 31', 'Log of average distance to SARS countries', 'Index of institutional trust', 'Gini coefficient of income']\n",
    "sns.pairplot(data = df, vars = labels)"
   ]
  },
  {
   "cell_type": "markdown",
   "id": "64d14d92",
   "metadata": {},
   "source": [
    "Maybe the most interesting line to see here is Covid deaths per 100,000. Gini Coeffecient has little to no effect on deaths. INstitutional Trust is probably the clearest variable to have prevent deaths. This makes sense. High institutional trust means that people are more willing to tolerate and go along with Covid prevention measures. On the other hand, median age, index of exposure, and log of distance to SARS countries are all associated with higher Covid deaths. None of these associations are particularly shocking. Older people are more affected by the disease, being more exposed to infected nations likely lead to higher infections, and nations closer to SARS nations were likely better prepared for pandemics. \n",
    "\n",
    "There are some other correlations worht pointing out here. Both MEdian age and Log average distance to SARS countries correlate with the index of exposure. Median age and index of exposure have what is almost an exponential relationship while log average distance and index of exposure have almost a logarithmic relationship. \n",
    "\n",
    "At this point, we should see how the categorical variables (Island, Female Head of State and WHO Western Pacific Region) affect our associations"
   ]
  },
  {
   "cell_type": "code",
   "execution_count": 26,
   "id": "b553d329",
   "metadata": {},
   "outputs": [
    {
     "data": {
      "image/png": "[encoded data removed]",
      "text/plain": [
       "<Figure size 432x288 with 1 Axes>"
      ]
     },
     "metadata": {
      "needs_background": "light"
     },
     "output_type": "display_data"
    }
   ],
   "source": [
    "sns.scatterplot(data = df, x = 'COVID-19 deaths per 100,000 population in 2020', y = 'Median age', hue = 'Island')\n",
    "plt.show()"
   ]
  },
  {
   "cell_type": "code",
   "execution_count": 27,
   "id": "f1f0d411",
   "metadata": {},
   "outputs": [
    {
     "data": {
      "image/png": "[encoded data removed]",
      "text/plain": [
       "<Figure size 432x288 with 1 Axes>"
      ]
     },
     "metadata": {
      "needs_background": "light"
     },
     "output_type": "display_data"
    }
   ],
   "source": [
    "sns.scatterplot(data = df, x = 'COVID-19 deaths per 100,000 population in 2020', y = 'Median age', hue = 'WHO Western Pacific Region')\n",
    "plt.show()"
   ]
  },
  {
   "cell_type": "code",
   "execution_count": 28,
   "id": "6801c66c",
   "metadata": {},
   "outputs": [
    {
     "data": {
      "image/png": "[encoded data removed]",
      "text/plain": [
       "<Figure size 432x288 with 1 Axes>"
      ]
     },
     "metadata": {
      "needs_background": "light"
     },
     "output_type": "display_data"
    }
   ],
   "source": [
    "sns.scatterplot(data = df, x = 'COVID-19 deaths per 100,000 population in 2020', y = 'Median age', hue = 'Female head of government')\n",
    "plt.show()"
   ]
  },
  {
   "cell_type": "markdown",
   "id": "d17106c7",
   "metadata": {},
   "source": [
    "One can probably assert, based on this data, that being in the WHO Western Pacific Region is negatively associated with increased Covid deaths. Being an Island nation is also mostly negatively assocated with increased covid deaths (though there are a few prmenient outliers). Having a female head of state is maybe somewhat associated with more Covid deaths, but its not a very strong association.\n",
    "\n",
    "As previously stated, the data here is likely incomplete due to testing infrastructure and the gender of the statesman has no sensible link to number of people dead due to Covid.\n",
    "\n",
    "As an interesting excercise, we will try clustering the data."
   ]
  },
  {
   "cell_type": "code",
   "execution_count": 34,
   "id": "b9e436e7",
   "metadata": {},
   "outputs": [
    {
     "data": {
      "text/html": [
       "<div>\n",
       "<style scoped>\n",
       "    .dataframe tbody tr th:only-of-type {\n",
       "        vertical-align: middle;\n",
       "    }\n",
       "\n",
       "    .dataframe tbody tr th {\n",
       "        vertical-align: top;\n",
       "    }\n",
       "\n",
       "    .dataframe thead th {\n",
       "        text-align: right;\n",
       "    }\n",
       "</style>\n",
       "<table border=\"1\" class=\"dataframe\">\n",
       "  <thead>\n",
       "    <tr style=\"text-align: right;\">\n",
       "      <th></th>\n",
       "      <th>Population 2020</th>\n",
       "      <th>Population 2019</th>\n",
       "      <th>COVID-19 deaths per 100,000 population in 2020</th>\n",
       "      <th>Median age</th>\n",
       "      <th>Island</th>\n",
       "      <th>Index of exposure to COVID-19  infections in other countries as of March 31</th>\n",
       "      <th>Log of average distance to SARS countries</th>\n",
       "      <th>WHO Western Pacific Region</th>\n",
       "      <th>Female head of government</th>\n",
       "      <th>Index of institutional trust</th>\n",
       "      <th>Gini coefficient of income</th>\n",
       "    </tr>\n",
       "  </thead>\n",
       "  <tbody>\n",
       "    <tr>\n",
       "      <th>0</th>\n",
       "      <td>331002647.0</td>\n",
       "      <td>328239523.0</td>\n",
       "      <td>104.451</td>\n",
       "      <td>38.3</td>\n",
       "      <td>0</td>\n",
       "      <td>1.688</td>\n",
       "      <td>9.315</td>\n",
       "      <td>0</td>\n",
       "      <td>0</td>\n",
       "      <td>0.250</td>\n",
       "      <td>47.51</td>\n",
       "    </tr>\n",
       "    <tr>\n",
       "      <th>1</th>\n",
       "      <td>102334403.0</td>\n",
       "      <td>100388073.0</td>\n",
       "      <td>7.457</td>\n",
       "      <td>25.3</td>\n",
       "      <td>0</td>\n",
       "      <td>1.627</td>\n",
       "      <td>9.007</td>\n",
       "      <td>0</td>\n",
       "      <td>0</td>\n",
       "      <td>0.446</td>\n",
       "      <td>31.56</td>\n",
       "    </tr>\n",
       "    <tr>\n",
       "      <th>2</th>\n",
       "      <td>36910558.0</td>\n",
       "      <td>36471769.0</td>\n",
       "      <td>20.016</td>\n",
       "      <td>29.6</td>\n",
       "      <td>0</td>\n",
       "      <td>2.336</td>\n",
       "      <td>9.226</td>\n",
       "      <td>0</td>\n",
       "      <td>0</td>\n",
       "      <td>0.397</td>\n",
       "      <td>39.55</td>\n",
       "    </tr>\n",
       "    <tr>\n",
       "      <th>3</th>\n",
       "      <td>6825442.0</td>\n",
       "      <td>6855713.0</td>\n",
       "      <td>21.508</td>\n",
       "      <td>31.1</td>\n",
       "      <td>0</td>\n",
       "      <td>1.891</td>\n",
       "      <td>8.956</td>\n",
       "      <td>0</td>\n",
       "      <td>0</td>\n",
       "      <td>0.107</td>\n",
       "      <td>31.83</td>\n",
       "    </tr>\n",
       "    <tr>\n",
       "      <th>4</th>\n",
       "      <td>34813867.0</td>\n",
       "      <td>34268528.0</td>\n",
       "      <td>17.875</td>\n",
       "      <td>31.9</td>\n",
       "      <td>0</td>\n",
       "      <td>1.250</td>\n",
       "      <td>8.897</td>\n",
       "      <td>0</td>\n",
       "      <td>0</td>\n",
       "      <td>0.651</td>\n",
       "      <td>45.90</td>\n",
       "    </tr>\n",
       "  </tbody>\n",
       "</table>\n",
       "</div>"
      ],
      "text/plain": [
       "   Population 2020  Population 2019  \\\n",
       "0      331002647.0      328239523.0   \n",
       "1      102334403.0      100388073.0   \n",
       "2       36910558.0       36471769.0   \n",
       "3        6825442.0        6855713.0   \n",
       "4       34813867.0       34268528.0   \n",
       "\n",
       "   COVID-19 deaths per 100,000 population in 2020  Median age  Island  \\\n",
       "0                                         104.451        38.3       0   \n",
       "1                                           7.457        25.3       0   \n",
       "2                                          20.016        29.6       0   \n",
       "3                                          21.508        31.1       0   \n",
       "4                                          17.875        31.9       0   \n",
       "\n",
       "   Index of exposure to COVID-19  infections in other countries as of March 31  \\\n",
       "0                                              1.688                             \n",
       "1                                              1.627                             \n",
       "2                                              2.336                             \n",
       "3                                              1.891                             \n",
       "4                                              1.250                             \n",
       "\n",
       "   Log of average distance to SARS countries  WHO Western Pacific Region  \\\n",
       "0                                      9.315                           0   \n",
       "1                                      9.007                           0   \n",
       "2                                      9.226                           0   \n",
       "3                                      8.956                           0   \n",
       "4                                      8.897                           0   \n",
       "\n",
       "   Female head of government  Index of institutional trust  \\\n",
       "0                          0                         0.250   \n",
       "1                          0                         0.446   \n",
       "2                          0                         0.397   \n",
       "3                          0                         0.107   \n",
       "4                          0                         0.651   \n",
       "\n",
       "   Gini coefficient of income  \n",
       "0                       47.51  \n",
       "1                       31.56  \n",
       "2                       39.55  \n",
       "3                       31.83  \n",
       "4                       45.90  "
      ]
     },
     "execution_count": 34,
     "metadata": {},
     "output_type": "execute_result"
    }
   ],
   "source": [
    "df_wo_name = df.drop(labels = 'Country name',axis = 'columns')\n",
    "df_wo_name.head()"
   ]
  },
  {
   "cell_type": "code",
   "execution_count": 35,
   "id": "37c15f45",
   "metadata": {},
   "outputs": [
    {
     "data": {
      "text/html": [
       "<div>\n",
       "<style scoped>\n",
       "    .dataframe tbody tr th:only-of-type {\n",
       "        vertical-align: middle;\n",
       "    }\n",
       "\n",
       "    .dataframe tbody tr th {\n",
       "        vertical-align: top;\n",
       "    }\n",
       "\n",
       "    .dataframe thead th {\n",
       "        text-align: right;\n",
       "    }\n",
       "</style>\n",
       "<table border=\"1\" class=\"dataframe\">\n",
       "  <thead>\n",
       "    <tr style=\"text-align: right;\">\n",
       "      <th></th>\n",
       "      <th>Population 2020</th>\n",
       "      <th>Population 2019</th>\n",
       "      <th>COVID-19 deaths per 100,000 population in 2020</th>\n",
       "      <th>Median age</th>\n",
       "      <th>Island</th>\n",
       "      <th>Index of exposure to COVID-19  infections in other countries as of March 31</th>\n",
       "      <th>Log of average distance to SARS countries</th>\n",
       "      <th>WHO Western Pacific Region</th>\n",
       "      <th>Female head of government</th>\n",
       "      <th>Index of institutional trust</th>\n",
       "      <th>Gini coefficient of income</th>\n",
       "    </tr>\n",
       "  </thead>\n",
       "  <tbody>\n",
       "    <tr>\n",
       "      <th>0</th>\n",
       "      <td>0.229788</td>\n",
       "      <td>0.234642</td>\n",
       "      <td>0.619902</td>\n",
       "      <td>0.700906</td>\n",
       "      <td>0.0</td>\n",
       "      <td>0.219484</td>\n",
       "      <td>0.755648</td>\n",
       "      <td>0.0</td>\n",
       "      <td>0.0</td>\n",
       "      <td>0.237209</td>\n",
       "      <td>0.575712</td>\n",
       "    </tr>\n",
       "    <tr>\n",
       "      <th>1</th>\n",
       "      <td>0.070879</td>\n",
       "      <td>0.071583</td>\n",
       "      <td>0.044256</td>\n",
       "      <td>0.308157</td>\n",
       "      <td>0.0</td>\n",
       "      <td>0.209256</td>\n",
       "      <td>0.572533</td>\n",
       "      <td>0.0</td>\n",
       "      <td>0.0</td>\n",
       "      <td>0.465116</td>\n",
       "      <td>0.197982</td>\n",
       "    </tr>\n",
       "    <tr>\n",
       "      <th>2</th>\n",
       "      <td>0.025413</td>\n",
       "      <td>0.025842</td>\n",
       "      <td>0.118792</td>\n",
       "      <td>0.438066</td>\n",
       "      <td>0.0</td>\n",
       "      <td>0.328135</td>\n",
       "      <td>0.702735</td>\n",
       "      <td>0.0</td>\n",
       "      <td>0.0</td>\n",
       "      <td>0.408140</td>\n",
       "      <td>0.387202</td>\n",
       "    </tr>\n",
       "    <tr>\n",
       "      <th>3</th>\n",
       "      <td>0.004506</td>\n",
       "      <td>0.004648</td>\n",
       "      <td>0.127647</td>\n",
       "      <td>0.483384</td>\n",
       "      <td>0.0</td>\n",
       "      <td>0.253521</td>\n",
       "      <td>0.542212</td>\n",
       "      <td>0.0</td>\n",
       "      <td>0.0</td>\n",
       "      <td>0.070930</td>\n",
       "      <td>0.204376</td>\n",
       "    </tr>\n",
       "    <tr>\n",
       "      <th>4</th>\n",
       "      <td>0.023956</td>\n",
       "      <td>0.024265</td>\n",
       "      <td>0.106086</td>\n",
       "      <td>0.507553</td>\n",
       "      <td>0.0</td>\n",
       "      <td>0.146043</td>\n",
       "      <td>0.507134</td>\n",
       "      <td>0.0</td>\n",
       "      <td>0.0</td>\n",
       "      <td>0.703488</td>\n",
       "      <td>0.537583</td>\n",
       "    </tr>\n",
       "  </tbody>\n",
       "</table>\n",
       "</div>"
      ],
      "text/plain": [
       "   Population 2020  Population 2019  \\\n",
       "0         0.229788         0.234642   \n",
       "1         0.070879         0.071583   \n",
       "2         0.025413         0.025842   \n",
       "3         0.004506         0.004648   \n",
       "4         0.023956         0.024265   \n",
       "\n",
       "   COVID-19 deaths per 100,000 population in 2020  Median age  Island  \\\n",
       "0                                        0.619902    0.700906     0.0   \n",
       "1                                        0.044256    0.308157     0.0   \n",
       "2                                        0.118792    0.438066     0.0   \n",
       "3                                        0.127647    0.483384     0.0   \n",
       "4                                        0.106086    0.507553     0.0   \n",
       "\n",
       "   Index of exposure to COVID-19  infections in other countries as of March 31  \\\n",
       "0                                           0.219484                             \n",
       "1                                           0.209256                             \n",
       "2                                           0.328135                             \n",
       "3                                           0.253521                             \n",
       "4                                           0.146043                             \n",
       "\n",
       "   Log of average distance to SARS countries  WHO Western Pacific Region  \\\n",
       "0                                   0.755648                         0.0   \n",
       "1                                   0.572533                         0.0   \n",
       "2                                   0.702735                         0.0   \n",
       "3                                   0.542212                         0.0   \n",
       "4                                   0.507134                         0.0   \n",
       "\n",
       "   Female head of government  Index of institutional trust  \\\n",
       "0                        0.0                      0.237209   \n",
       "1                        0.0                      0.465116   \n",
       "2                        0.0                      0.408140   \n",
       "3                        0.0                      0.070930   \n",
       "4                        0.0                      0.703488   \n",
       "\n",
       "   Gini coefficient of income  \n",
       "0                    0.575712  \n",
       "1                    0.197982  \n",
       "2                    0.387202  \n",
       "3                    0.204376  \n",
       "4                    0.537583  "
      ]
     },
     "execution_count": 35,
     "metadata": {},
     "output_type": "execute_result"
    }
   ],
   "source": [
    "from sklearn.preprocessing import MinMaxScaler\n",
    "\n",
    "scaler = MinMaxScaler()\n",
    "\n",
    "scaled_data = scaler.fit_transform(df_wo_name)\n",
    "\n",
    "df_scaled = pd.DataFrame(scaled_data,columns=df_wo_name.columns)\n",
    "\n",
    "df_scaled.head()"
   ]
  },
  {
   "cell_type": "code",
   "execution_count": 37,
   "id": "b10161e0",
   "metadata": {},
   "outputs": [
    {
     "data": {
      "image/png": "[encoded data removed]",
      "text/plain": [
       "<Figure size 720x720 with 4 Axes>"
      ]
     },
     "metadata": {
      "needs_background": "light"
     },
     "output_type": "display_data"
    }
   ],
   "source": [
    "sns.clustermap(data = df_scaled, col_cluster = False)\n",
    "plt.show()"
   ]
  },
  {
   "cell_type": "code",
   "execution_count": 39,
   "id": "c8366078",
   "metadata": {},
   "outputs": [
    {
     "data": {
      "text/plain": [
       "array([ 87, 109,  91,  95, 113, 161, 133, 115,  88, 107, 122, 135, 130,\n",
       "        89, 111, 159, 136,  83, 131, 153, 102, 120, 147, 106,  92, 149,\n",
       "       119, 143,  97,  84,  96, 104,  93, 121, 105, 150,  99, 125,  74,\n",
       "       148, 160,  73, 114, 155,  90, 100, 132, 127, 128, 101,  85, 117,\n",
       "       129,  86,  81, 138, 124, 112, 154,  41,  56, 151,  42, 142,  79,\n",
       "        43,  60, 152, 156,  44,  63,  94, 108,  47,  59,  77, 162,  80,\n",
       "       157,  20, 123, 145,  64,  50,  98, 116,  75, 126, 139, 134,  57,\n",
       "        66,  21, 103,  39,  51, 141,  82,  76, 158, 137,  61, 110, 118,\n",
       "        54,  65,  37,  78, 140,  29, 144,  58,  69,  40,  55,  36, 146,\n",
       "        70,  28,  71,  62,  34,  32,  27,  48,  72,  67,  68,  52,  49,\n",
       "        53,  19,  38,  35,  45,  30,  26,  33,  14,  25,  23,  13,  46,\n",
       "         6,  24,  31,  22,  17,  16,  12,  10,   9,  11,  15,   7,  18,\n",
       "         8,   5,   4,   2,   3,   1,   0], dtype=int64)"
      ]
     },
     "execution_count": 39,
     "metadata": {},
     "output_type": "execute_result"
    }
   ],
   "source": [
    "from sklearn.cluster import AgglomerativeClustering\n",
    "\n",
    "model = AgglomerativeClustering(n_clusters=None, distance_threshold=0)\n",
    "\n",
    "cluster_labels = model.fit_predict(df_scaled)\n",
    "cluster_labels"
   ]
  },
  {
   "cell_type": "code",
   "execution_count": 40,
   "id": "676a1ec4",
   "metadata": {},
   "outputs": [
    {
     "data": {
      "image/png": "[encoded data removed]",
      "text/plain": [
       "<Figure size 1440x720 with 1 Axes>"
      ]
     },
     "metadata": {
      "needs_background": "light"
     },
     "output_type": "display_data"
    }
   ],
   "source": [
    "from scipy.cluster.hierarchy import dendrogram\n",
    "from scipy.cluster import hierarchy\n",
    "linkage_matrix = hierarchy.linkage(model.children_)\n",
    "\n",
    "plt.figure(figsize = (20,10))\n",
    "dn = hierarchy.dendrogram(linkage_matrix)"
   ]
  },
  {
   "cell_type": "markdown",
   "id": "adb763c3",
   "metadata": {},
   "source": [
    "This Dendrogram shows us that there are roughly 5 broad classes, so we will make a new model with that in mind."
   ]
  },
  {
   "cell_type": "code",
   "execution_count": 41,
   "id": "9b58cbbc",
   "metadata": {},
   "outputs": [
    {
     "data": {
      "text/plain": [
       "array([3, 0, 0, 0, 0, 0, 0, 0, 0, 4, 1, 4, 3, 1, 3, 3, 3, 3, 3, 3, 3, 3,\n",
       "       3, 1, 1, 3, 2, 2, 2, 2, 2, 0, 0, 0, 0, 0, 0, 0, 0, 0, 0, 0, 4, 0,\n",
       "       0, 3, 2, 2, 4, 2, 0, 2, 2, 1, 2, 0, 0, 1, 0, 0, 0, 0, 0, 0, 0, 2,\n",
       "       2, 0, 3, 1, 0, 0, 3, 3, 3, 0, 0, 0, 0, 0, 3, 0, 0, 3, 3, 0, 4, 0,\n",
       "       0, 0, 3, 3, 0, 0, 0, 0, 0, 4, 0, 0, 3, 4, 4, 0, 4, 0, 0, 1, 1, 1,\n",
       "       0, 0, 0, 4, 0, 4, 0, 4, 0, 4, 0, 3, 0, 0, 0, 1, 3, 3, 2, 4, 4, 4,\n",
       "       2, 3, 1, 1, 0, 1, 0, 0, 0, 0, 3, 0, 1, 1, 3, 0, 0, 0, 0, 3, 0, 0,\n",
       "       1, 4, 3, 0, 0, 0, 0, 1, 0], dtype=int64)"
      ]
     },
     "execution_count": 41,
     "metadata": {},
     "output_type": "execute_result"
    }
   ],
   "source": [
    "model = AgglomerativeClustering(n_clusters=5)\n",
    "\n",
    "cluster_labels = model.fit_predict(df_scaled)\n",
    "cluster_labels"
   ]
  },
  {
   "cell_type": "code",
   "execution_count": 43,
   "id": "c8416efc",
   "metadata": {},
   "outputs": [
    {
     "data": {
      "text/html": [
       "<div>\n",
       "<style scoped>\n",
       "    .dataframe tbody tr th:only-of-type {\n",
       "        vertical-align: middle;\n",
       "    }\n",
       "\n",
       "    .dataframe tbody tr th {\n",
       "        vertical-align: top;\n",
       "    }\n",
       "\n",
       "    .dataframe thead th {\n",
       "        text-align: right;\n",
       "    }\n",
       "</style>\n",
       "<table border=\"1\" class=\"dataframe\">\n",
       "  <thead>\n",
       "    <tr style=\"text-align: right;\">\n",
       "      <th></th>\n",
       "      <th>Country name</th>\n",
       "      <th>Population 2020</th>\n",
       "      <th>Population 2019</th>\n",
       "      <th>COVID-19 deaths per 100,000 population in 2020</th>\n",
       "      <th>Median age</th>\n",
       "      <th>Island</th>\n",
       "      <th>Index of exposure to COVID-19  infections in other countries as of March 31</th>\n",
       "      <th>Log of average distance to SARS countries</th>\n",
       "      <th>WHO Western Pacific Region</th>\n",
       "      <th>Female head of government</th>\n",
       "      <th>Index of institutional trust</th>\n",
       "      <th>Gini coefficient of income</th>\n",
       "      <th>Cluster Lables</th>\n",
       "    </tr>\n",
       "  </thead>\n",
       "  <tbody>\n",
       "    <tr>\n",
       "      <th>0</th>\n",
       "      <td>United States</td>\n",
       "      <td>331002647.0</td>\n",
       "      <td>328239523.0</td>\n",
       "      <td>104.451</td>\n",
       "      <td>38.3</td>\n",
       "      <td>0</td>\n",
       "      <td>1.688</td>\n",
       "      <td>9.315</td>\n",
       "      <td>0</td>\n",
       "      <td>0</td>\n",
       "      <td>0.250</td>\n",
       "      <td>47.51</td>\n",
       "      <td>3</td>\n",
       "    </tr>\n",
       "    <tr>\n",
       "      <th>1</th>\n",
       "      <td>Egypt</td>\n",
       "      <td>102334403.0</td>\n",
       "      <td>100388073.0</td>\n",
       "      <td>7.457</td>\n",
       "      <td>25.3</td>\n",
       "      <td>0</td>\n",
       "      <td>1.627</td>\n",
       "      <td>9.007</td>\n",
       "      <td>0</td>\n",
       "      <td>0</td>\n",
       "      <td>0.446</td>\n",
       "      <td>31.56</td>\n",
       "      <td>0</td>\n",
       "    </tr>\n",
       "    <tr>\n",
       "      <th>2</th>\n",
       "      <td>Morocco</td>\n",
       "      <td>36910558.0</td>\n",
       "      <td>36471769.0</td>\n",
       "      <td>20.016</td>\n",
       "      <td>29.6</td>\n",
       "      <td>0</td>\n",
       "      <td>2.336</td>\n",
       "      <td>9.226</td>\n",
       "      <td>0</td>\n",
       "      <td>0</td>\n",
       "      <td>0.397</td>\n",
       "      <td>39.55</td>\n",
       "      <td>0</td>\n",
       "    </tr>\n",
       "    <tr>\n",
       "      <th>3</th>\n",
       "      <td>Lebanon</td>\n",
       "      <td>6825442.0</td>\n",
       "      <td>6855713.0</td>\n",
       "      <td>21.508</td>\n",
       "      <td>31.1</td>\n",
       "      <td>0</td>\n",
       "      <td>1.891</td>\n",
       "      <td>8.956</td>\n",
       "      <td>0</td>\n",
       "      <td>0</td>\n",
       "      <td>0.107</td>\n",
       "      <td>31.83</td>\n",
       "      <td>0</td>\n",
       "    </tr>\n",
       "    <tr>\n",
       "      <th>4</th>\n",
       "      <td>Saudi Arabia</td>\n",
       "      <td>34813867.0</td>\n",
       "      <td>34268528.0</td>\n",
       "      <td>17.875</td>\n",
       "      <td>31.9</td>\n",
       "      <td>0</td>\n",
       "      <td>1.250</td>\n",
       "      <td>8.897</td>\n",
       "      <td>0</td>\n",
       "      <td>0</td>\n",
       "      <td>0.651</td>\n",
       "      <td>45.90</td>\n",
       "      <td>0</td>\n",
       "    </tr>\n",
       "  </tbody>\n",
       "</table>\n",
       "</div>"
      ],
      "text/plain": [
       "    Country name  Population 2020  Population 2019  \\\n",
       "0  United States      331002647.0      328239523.0   \n",
       "1          Egypt      102334403.0      100388073.0   \n",
       "2        Morocco       36910558.0       36471769.0   \n",
       "3        Lebanon        6825442.0        6855713.0   \n",
       "4   Saudi Arabia       34813867.0       34268528.0   \n",
       "\n",
       "   COVID-19 deaths per 100,000 population in 2020  Median age  Island  \\\n",
       "0                                         104.451        38.3       0   \n",
       "1                                           7.457        25.3       0   \n",
       "2                                          20.016        29.6       0   \n",
       "3                                          21.508        31.1       0   \n",
       "4                                          17.875        31.9       0   \n",
       "\n",
       "   Index of exposure to COVID-19  infections in other countries as of March 31  \\\n",
       "0                                              1.688                             \n",
       "1                                              1.627                             \n",
       "2                                              2.336                             \n",
       "3                                              1.891                             \n",
       "4                                              1.250                             \n",
       "\n",
       "   Log of average distance to SARS countries  WHO Western Pacific Region  \\\n",
       "0                                      9.315                           0   \n",
       "1                                      9.007                           0   \n",
       "2                                      9.226                           0   \n",
       "3                                      8.956                           0   \n",
       "4                                      8.897                           0   \n",
       "\n",
       "   Female head of government  Index of institutional trust  \\\n",
       "0                          0                         0.250   \n",
       "1                          0                         0.446   \n",
       "2                          0                         0.397   \n",
       "3                          0                         0.107   \n",
       "4                          0                         0.651   \n",
       "\n",
       "   Gini coefficient of income  Cluster Lables  \n",
       "0                       47.51               3  \n",
       "1                       31.56               0  \n",
       "2                       39.55               0  \n",
       "3                       31.83               0  \n",
       "4                       45.90               0  "
      ]
     },
     "execution_count": 43,
     "metadata": {},
     "output_type": "execute_result"
    }
   ],
   "source": [
    "df['Cluster Lables'] = cluster_labels\n",
    "df.head()"
   ]
  },
  {
   "cell_type": "markdown",
   "id": "c5a26f0e",
   "metadata": {},
   "source": [
    "We should see how nations are clustered together on a map so its easy to visualize"
   ]
  },
  {
   "cell_type": "code",
   "execution_count": 45,
   "id": "40a3dfa6",
   "metadata": {},
   "outputs": [
    {
     "data": {
      "text/html": [
       "<div>\n",
       "<style scoped>\n",
       "    .dataframe tbody tr th:only-of-type {\n",
       "        vertical-align: middle;\n",
       "    }\n",
       "\n",
       "    .dataframe tbody tr th {\n",
       "        vertical-align: top;\n",
       "    }\n",
       "\n",
       "    .dataframe thead th {\n",
       "        text-align: right;\n",
       "    }\n",
       "</style>\n",
       "<table border=\"1\" class=\"dataframe\">\n",
       "  <thead>\n",
       "    <tr style=\"text-align: right;\">\n",
       "      <th></th>\n",
       "      <th>Country</th>\n",
       "      <th>ISO Code</th>\n",
       "    </tr>\n",
       "  </thead>\n",
       "  <tbody>\n",
       "    <tr>\n",
       "      <th>0</th>\n",
       "      <td>Afghanistan</td>\n",
       "      <td>AFG</td>\n",
       "    </tr>\n",
       "    <tr>\n",
       "      <th>1</th>\n",
       "      <td>Akrotiri and Dhekelia – See United Kingdom, The</td>\n",
       "      <td>Akrotiri and Dhekelia – See United Kingdom, The</td>\n",
       "    </tr>\n",
       "    <tr>\n",
       "      <th>2</th>\n",
       "      <td>Åland Islands</td>\n",
       "      <td>ALA</td>\n",
       "    </tr>\n",
       "    <tr>\n",
       "      <th>3</th>\n",
       "      <td>Albania</td>\n",
       "      <td>ALB</td>\n",
       "    </tr>\n",
       "    <tr>\n",
       "      <th>4</th>\n",
       "      <td>Algeria</td>\n",
       "      <td>DZA</td>\n",
       "    </tr>\n",
       "  </tbody>\n",
       "</table>\n",
       "</div>"
      ],
      "text/plain": [
       "                                           Country  \\\n",
       "0                                      Afghanistan   \n",
       "1  Akrotiri and Dhekelia – See United Kingdom, The   \n",
       "2                                    Åland Islands   \n",
       "3                                          Albania   \n",
       "4                                          Algeria   \n",
       "\n",
       "                                          ISO Code  \n",
       "0                                              AFG  \n",
       "1  Akrotiri and Dhekelia – See United Kingdom, The  \n",
       "2                                              ALA  \n",
       "3                                              ALB  \n",
       "4                                              DZA  "
      ]
     },
     "execution_count": 45,
     "metadata": {},
     "output_type": "execute_result"
    }
   ],
   "source": [
    "iso = pd.read_csv('C:/Users/Taylor/Documents/ProgramsAndScripts/MLandDSMasterClass/DATA/country_iso_codes.csv')\n",
    "iso.head()"
   ]
  },
  {
   "cell_type": "code",
   "execution_count": 56,
   "id": "eb891e79",
   "metadata": {},
   "outputs": [
    {
     "data": {
      "text/html": [
       "<div>\n",
       "<style scoped>\n",
       "    .dataframe tbody tr th:only-of-type {\n",
       "        vertical-align: middle;\n",
       "    }\n",
       "\n",
       "    .dataframe tbody tr th {\n",
       "        vertical-align: top;\n",
       "    }\n",
       "\n",
       "    .dataframe thead th {\n",
       "        text-align: right;\n",
       "    }\n",
       "</style>\n",
       "<table border=\"1\" class=\"dataframe\">\n",
       "  <thead>\n",
       "    <tr style=\"text-align: right;\">\n",
       "      <th></th>\n",
       "      <th>Country</th>\n",
       "      <th>Cluster Lables</th>\n",
       "      <th>COVID-19 deaths per 100,000 population in 2020</th>\n",
       "    </tr>\n",
       "  </thead>\n",
       "  <tbody>\n",
       "    <tr>\n",
       "      <th>0</th>\n",
       "      <td>United States</td>\n",
       "      <td>3</td>\n",
       "      <td>104.451</td>\n",
       "    </tr>\n",
       "    <tr>\n",
       "      <th>1</th>\n",
       "      <td>Egypt</td>\n",
       "      <td>0</td>\n",
       "      <td>7.457</td>\n",
       "    </tr>\n",
       "    <tr>\n",
       "      <th>2</th>\n",
       "      <td>Morocco</td>\n",
       "      <td>0</td>\n",
       "      <td>20.016</td>\n",
       "    </tr>\n",
       "    <tr>\n",
       "      <th>3</th>\n",
       "      <td>Lebanon</td>\n",
       "      <td>0</td>\n",
       "      <td>21.508</td>\n",
       "    </tr>\n",
       "    <tr>\n",
       "      <th>4</th>\n",
       "      <td>Saudi Arabia</td>\n",
       "      <td>0</td>\n",
       "      <td>17.875</td>\n",
       "    </tr>\n",
       "  </tbody>\n",
       "</table>\n",
       "</div>"
      ],
      "text/plain": [
       "         Country  Cluster Lables  \\\n",
       "0  United States               3   \n",
       "1          Egypt               0   \n",
       "2        Morocco               0   \n",
       "3        Lebanon               0   \n",
       "4   Saudi Arabia               0   \n",
       "\n",
       "   COVID-19 deaths per 100,000 population in 2020  \n",
       "0                                         104.451  \n",
       "1                                           7.457  \n",
       "2                                          20.016  \n",
       "3                                          21.508  \n",
       "4                                          17.875  "
      ]
     },
     "execution_count": 56,
     "metadata": {},
     "output_type": "execute_result"
    }
   ],
   "source": [
    "dfnl = df[['Country name','Cluster Lables','COVID-19 deaths per 100,000 population in 2020']].copy()\n",
    "dfnl.rename(columns = {'Country name':'Country'},inplace = True)\n",
    "dfnl.head()"
   ]
  },
  {
   "cell_type": "code",
   "execution_count": 57,
   "id": "a23f54aa",
   "metadata": {},
   "outputs": [
    {
     "data": {
      "text/html": [
       "<div>\n",
       "<style scoped>\n",
       "    .dataframe tbody tr th:only-of-type {\n",
       "        vertical-align: middle;\n",
       "    }\n",
       "\n",
       "    .dataframe tbody tr th {\n",
       "        vertical-align: top;\n",
       "    }\n",
       "\n",
       "    .dataframe thead th {\n",
       "        text-align: right;\n",
       "    }\n",
       "</style>\n",
       "<table border=\"1\" class=\"dataframe\">\n",
       "  <thead>\n",
       "    <tr style=\"text-align: right;\">\n",
       "      <th></th>\n",
       "      <th>Country</th>\n",
       "      <th>Cluster Lables</th>\n",
       "      <th>COVID-19 deaths per 100,000 population in 2020</th>\n",
       "      <th>ISO Code</th>\n",
       "    </tr>\n",
       "  </thead>\n",
       "  <tbody>\n",
       "    <tr>\n",
       "      <th>0</th>\n",
       "      <td>United States</td>\n",
       "      <td>3</td>\n",
       "      <td>104.451</td>\n",
       "      <td>USA</td>\n",
       "    </tr>\n",
       "    <tr>\n",
       "      <th>1</th>\n",
       "      <td>Egypt</td>\n",
       "      <td>0</td>\n",
       "      <td>7.457</td>\n",
       "      <td>EGY</td>\n",
       "    </tr>\n",
       "    <tr>\n",
       "      <th>2</th>\n",
       "      <td>Morocco</td>\n",
       "      <td>0</td>\n",
       "      <td>20.016</td>\n",
       "      <td>MAR</td>\n",
       "    </tr>\n",
       "    <tr>\n",
       "      <th>3</th>\n",
       "      <td>Lebanon</td>\n",
       "      <td>0</td>\n",
       "      <td>21.508</td>\n",
       "      <td>LBN</td>\n",
       "    </tr>\n",
       "    <tr>\n",
       "      <th>4</th>\n",
       "      <td>Saudi Arabia</td>\n",
       "      <td>0</td>\n",
       "      <td>17.875</td>\n",
       "      <td>SAU</td>\n",
       "    </tr>\n",
       "  </tbody>\n",
       "</table>\n",
       "</div>"
      ],
      "text/plain": [
       "         Country  Cluster Lables  \\\n",
       "0  United States               3   \n",
       "1          Egypt               0   \n",
       "2        Morocco               0   \n",
       "3        Lebanon               0   \n",
       "4   Saudi Arabia               0   \n",
       "\n",
       "   COVID-19 deaths per 100,000 population in 2020 ISO Code  \n",
       "0                                         104.451      USA  \n",
       "1                                           7.457      EGY  \n",
       "2                                          20.016      MAR  \n",
       "3                                          21.508      LBN  \n",
       "4                                          17.875      SAU  "
      ]
     },
     "execution_count": 57,
     "metadata": {},
     "output_type": "execute_result"
    }
   ],
   "source": [
    "dfiso = pd.merge(dfnl,iso,how = 'inner',on = 'Country')\n",
    "dfiso.head()"
   ]
  },
  {
   "cell_type": "code",
   "execution_count": 54,
   "id": "0f370325",
   "metadata": {},
   "outputs": [],
   "source": [
    "import plotly.express as px"
   ]
  },
  {
   "cell_type": "code",
   "execution_count": 58,
   "id": "6f73c0ad",
   "metadata": {},
   "outputs": [
    {
     "data": {
      "application/vnd.plotly.v1+json": {
       "config": {
        "plotlyServerURL": "https://plot.ly"
       },
       "data": [
        {
         "coloraxis": "coloraxis",
         "geo": "geo",
         "hovertemplate": "<b>%{hovertext}</b><br><br>ISO Code=%{location}<br>Cluster Lables=%{z}<extra></extra>",
         "hovertext": [
          "United States",
          "Egypt",
          "Morocco",
          "Lebanon",
          "Saudi Arabia",
          "Jordan",
          "Turkey",
          "Pakistan",
          "Indonesia",
          "Bangladesh",
          "United Kingdom",
          "France",
          "Germany",
          "Belgium",
          "Spain",
          "Italy",
          "Poland",
          "Hungary",
          "Romania",
          "Sweden",
          "Greece",
          "Denmark",
          "Iran",
          "Singapore",
          "Japan",
          "China",
          "India",
          "Venezuela",
          "Brazil",
          "Mexico",
          "Nigeria",
          "Kenya",
          "Tanzania",
          "Israel",
          "Ghana",
          "Uganda",
          "Benin",
          "Madagascar",
          "Malawi",
          "South Africa",
          "Canada",
          "Australia",
          "Sri Lanka",
          "Vietnam",
          "Thailand",
          "Cambodia",
          "Laos",
          "Myanmar",
          "New Zealand",
          "Angola",
          "Botswana",
          "Ethiopia",
          "Mali",
          "Mauritania",
          "Mozambique",
          "Niger",
          "Rwanda",
          "Senegal",
          "Zambia",
          "Afghanistan",
          "Belarus",
          "Georgia",
          "Kazakhstan",
          "Kyrgyzstan",
          "Russia",
          "Ukraine",
          "Burkina Faso",
          "Cameroon",
          "Sierra Leone",
          "Zimbabwe",
          "Costa Rica",
          "Albania",
          "Algeria",
          "Argentina",
          "Armenia",
          "Austria",
          "Azerbaijan",
          "Bahrain",
          "Belize",
          "Bhutan",
          "Bolivia",
          "Bosnia and Herzegovina",
          "Bulgaria",
          "Burundi",
          "Chad",
          "Chile",
          "Colombia",
          "Croatia",
          "Cuba",
          "Cyprus",
          "Djibouti",
          "Ecuador",
          "El Salvador",
          "Estonia",
          "Finland",
          "Gabon",
          "Guatemala",
          "Guinea",
          "Guyana",
          "Haiti",
          "Honduras",
          "Iceland",
          "Iraq",
          "Ireland",
          "Jamaica",
          "Kuwait",
          "Latvia",
          "Lesotho",
          "Liberia",
          "Libya",
          "Lithuania",
          "Luxembourg",
          "Malaysia",
          "Maldives",
          "Malta",
          "Mauritius",
          "Mongolia",
          "Montenegro",
          "Namibia",
          "Nepal",
          "Nicaragua",
          "Norway",
          "Oman",
          "Panama",
          "Paraguay",
          "Peru",
          "Portugal",
          "Qatar",
          "Serbia",
          "Slovakia",
          "Slovenia",
          "Somalia",
          "Sudan",
          "Suriname",
          "Switzerland",
          "Tajikistan",
          "Togo",
          "Trinidad and Tobago",
          "Tunisia",
          "Uruguay",
          "Uzbekistan",
          "Yemen",
          "South Sudan"
         ],
         "locations": [
          "USA",
          "EGY",
          "MAR",
          "LBN",
          "SAU",
          "JOR",
          "TUR",
          "PAK",
          "IDN",
          "BGD",
          "GBR",
          "FRA",
          "DEU",
          "BEL",
          "ESP",
          "ITA",
          "POL",
          "HUN",
          "ROU",
          "SWE",
          "GRC",
          "DNK",
          "IRN",
          "SGP",
          "JPN",
          "CHN",
          "IND",
          "VEN",
          "BRA",
          "MEX",
          "NGA",
          "KEN",
          "TZA",
          "ISR",
          "GHA",
          "UGA",
          "BEN",
          "MDG",
          "MWI",
          "ZAF",
          "CAN",
          "AUS",
          "LKA",
          "VNM",
          "THA",
          "KHM",
          "LAO",
          "MMR",
          "NZL",
          "AGO",
          "BWA",
          "ETH",
          "MLI",
          "MRT",
          "MOZ",
          "NER",
          "RWA",
          "SEN",
          "ZMB",
          "AFG",
          "BLR",
          "GEO",
          "KAZ",
          "KGZ",
          "RUS",
          "UKR",
          "BFA",
          "CMR",
          "SLE",
          "ZWE",
          "CRI",
          "ALB",
          "DZA",
          "ARG",
          "ARM",
          "AUT",
          "AZE",
          "BHR",
          "BLZ",
          "BTN",
          "BOL",
          "BIH",
          "BGR",
          "BDI",
          "TCD",
          "CHL",
          "COL",
          "HRV",
          "CUB",
          "CYP",
          "DJI",
          "ECU",
          "SLV",
          "EST",
          "FIN",
          "GAB",
          "GTM",
          "GIN",
          "GUY",
          "HTI",
          "HND",
          "ISL",
          "IRQ",
          "IRL",
          "JAM",
          "KWT",
          "LVA",
          "LSO",
          "LBR",
          "LBY",
          "LTU",
          "LUX",
          "MYS",
          "MDV",
          "MLT",
          "MUS",
          "MNG",
          "MNE",
          "NAM",
          "NPL",
          "NIC",
          "NOR",
          "OMN",
          "PAN",
          "PRY",
          "PER",
          "PRT",
          "QAT",
          "SRB",
          "SVK",
          "SVN",
          "SOM",
          "SDN",
          "SUR",
          "CHE",
          "TJK",
          "TGO",
          "TTO",
          "TUN",
          "URY",
          "UZB",
          "YEM",
          "SSD"
         ],
         "name": "",
         "type": "choropleth",
         "z": [
          3,
          0,
          0,
          0,
          0,
          0,
          0,
          0,
          4,
          1,
          4,
          3,
          1,
          3,
          3,
          3,
          3,
          3,
          3,
          3,
          1,
          1,
          3,
          2,
          2,
          2,
          2,
          0,
          0,
          0,
          0,
          0,
          0,
          0,
          0,
          0,
          0,
          4,
          0,
          0,
          3,
          2,
          4,
          2,
          0,
          2,
          2,
          1,
          2,
          0,
          0,
          1,
          0,
          0,
          0,
          0,
          0,
          0,
          0,
          0,
          3,
          1,
          0,
          0,
          3,
          3,
          0,
          0,
          0,
          0,
          0,
          3,
          0,
          0,
          3,
          3,
          0,
          4,
          0,
          0,
          0,
          3,
          3,
          0,
          0,
          0,
          0,
          3,
          4,
          4,
          0,
          0,
          0,
          1,
          1,
          1,
          0,
          0,
          0,
          4,
          0,
          4,
          0,
          4,
          4,
          0,
          3,
          0,
          0,
          0,
          1,
          3,
          2,
          4,
          4,
          4,
          2,
          3,
          1,
          1,
          0,
          1,
          0,
          0,
          0,
          0,
          3,
          0,
          1,
          1,
          3,
          0,
          0,
          0,
          3,
          0,
          1,
          4,
          3,
          0,
          0,
          0,
          0
         ]
        }
       ],
       "layout": {
        "coloraxis": {
         "colorbar": {
          "title": {
           "text": "Cluster Lables"
          }
         },
         "colorscale": [
          [
           0,
           "#0d0887"
          ],
          [
           0.1111111111111111,
           "#46039f"
          ],
          [
           0.2222222222222222,
           "#7201a8"
          ],
          [
           0.3333333333333333,
           "#9c179e"
          ],
          [
           0.4444444444444444,
           "#bd3786"
          ],
          [
           0.5555555555555556,
           "#d8576b"
          ],
          [
           0.6666666666666666,
           "#ed7953"
          ],
          [
           0.7777777777777778,
           "#fb9f3a"
          ],
          [
           0.8888888888888888,
           "#fdca26"
          ],
          [
           1,
           "#f0f921"
          ]
         ]
        },
        "geo": {
         "center": {},
         "domain": {
          "x": [
           0,
           1
          ],
          "y": [
           0,
           1
          ]
         }
        },
        "legend": {
         "tracegroupgap": 0
        },
        "margin": {
         "t": 60
        },
        "template": {
         "data": {
          "bar": [
           {
            "error_x": {
             "color": "#2a3f5f"
            },
            "error_y": {
             "color": "#2a3f5f"
            },
            "marker": {
             "line": {
              "color": "#E5ECF6",
              "width": 0.5
             },
             "pattern": {
              "fillmode": "overlay",
              "size": 10,
              "solidity": 0.2
             }
            },
            "type": "bar"
           }
          ],
          "barpolar": [
           {
            "marker": {
             "line": {
              "color": "#E5ECF6",
              "width": 0.5
             },
             "pattern": {
              "fillmode": "overlay",
              "size": 10,
              "solidity": 0.2
             }
            },
            "type": "barpolar"
           }
          ],
          "carpet": [
           {
            "aaxis": {
             "endlinecolor": "#2a3f5f",
             "gridcolor": "white",
             "linecolor": "white",
             "minorgridcolor": "white",
             "startlinecolor": "#2a3f5f"
            },
            "baxis": {
             "endlinecolor": "#2a3f5f",
             "gridcolor": "white",
             "linecolor": "white",
             "minorgridcolor": "white",
             "startlinecolor": "#2a3f5f"
            },
            "type": "carpet"
           }
          ],
          "choropleth": [
           {
            "colorbar": {
             "outlinewidth": 0,
             "ticks": ""
            },
            "type": "choropleth"
           }
          ],
          "contour": [
           {
            "colorbar": {
             "outlinewidth": 0,
             "ticks": ""
            },
            "colorscale": [
             [
              0,
              "#0d0887"
             ],
             [
              0.1111111111111111,
              "#46039f"
             ],
             [
              0.2222222222222222,
              "#7201a8"
             ],
             [
              0.3333333333333333,
              "#9c179e"
             ],
             [
              0.4444444444444444,
              "#bd3786"
             ],
             [
              0.5555555555555556,
              "#d8576b"
             ],
             [
              0.6666666666666666,
              "#ed7953"
             ],
             [
              0.7777777777777778,
              "#fb9f3a"
             ],
             [
              0.8888888888888888,
              "#fdca26"
             ],
             [
              1,
              "#f0f921"
             ]
            ],
            "type": "contour"
           }
          ],
          "contourcarpet": [
           {
            "colorbar": {
             "outlinewidth": 0,
             "ticks": ""
            },
            "type": "contourcarpet"
           }
          ],
          "heatmap": [
           {
            "colorbar": {
             "outlinewidth": 0,
             "ticks": ""
            },
            "colorscale": [
             [
              0,
              "#0d0887"
             ],
             [
              0.1111111111111111,
              "#46039f"
             ],
             [
              0.2222222222222222,
              "#7201a8"
             ],
             [
              0.3333333333333333,
              "#9c179e"
             ],
             [
              0.4444444444444444,
              "#bd3786"
             ],
             [
              0.5555555555555556,
              "#d8576b"
             ],
             [
              0.6666666666666666,
              "#ed7953"
             ],
             [
              0.7777777777777778,
              "#fb9f3a"
             ],
             [
              0.8888888888888888,
              "#fdca26"
             ],
             [
              1,
              "#f0f921"
             ]
            ],
            "type": "heatmap"
           }
          ],
          "heatmapgl": [
           {
            "colorbar": {
             "outlinewidth": 0,
             "ticks": ""
            },
            "colorscale": [
             [
              0,
              "#0d0887"
             ],
             [
              0.1111111111111111,
              "#46039f"
             ],
             [
              0.2222222222222222,
              "#7201a8"
             ],
             [
              0.3333333333333333,
              "#9c179e"
             ],
             [
              0.4444444444444444,
              "#bd3786"
             ],
             [
              0.5555555555555556,
              "#d8576b"
             ],
             [
              0.6666666666666666,
              "#ed7953"
             ],
             [
              0.7777777777777778,
              "#fb9f3a"
             ],
             [
              0.8888888888888888,
              "#fdca26"
             ],
             [
              1,
              "#f0f921"
             ]
            ],
            "type": "heatmapgl"
           }
          ],
          "histogram": [
           {
            "marker": {
             "pattern": {
              "fillmode": "overlay",
              "size": 10,
              "solidity": 0.2
             }
            },
            "type": "histogram"
           }
          ],
          "histogram2d": [
           {
            "colorbar": {
             "outlinewidth": 0,
             "ticks": ""
            },
            "colorscale": [
             [
              0,
              "#0d0887"
             ],
             [
              0.1111111111111111,
              "#46039f"
             ],
             [
              0.2222222222222222,
              "#7201a8"
             ],
             [
              0.3333333333333333,
              "#9c179e"
             ],
             [
              0.4444444444444444,
              "#bd3786"
             ],
             [
              0.5555555555555556,
              "#d8576b"
             ],
             [
              0.6666666666666666,
              "#ed7953"
             ],
             [
              0.7777777777777778,
              "#fb9f3a"
             ],
             [
              0.8888888888888888,
              "#fdca26"
             ],
             [
              1,
              "#f0f921"
             ]
            ],
            "type": "histogram2d"
           }
          ],
          "histogram2dcontour": [
           {
            "colorbar": {
             "outlinewidth": 0,
             "ticks": ""
            },
            "colorscale": [
             [
              0,
              "#0d0887"
             ],
             [
              0.1111111111111111,
              "#46039f"
             ],
             [
              0.2222222222222222,
              "#7201a8"
             ],
             [
              0.3333333333333333,
              "#9c179e"
             ],
             [
              0.4444444444444444,
              "#bd3786"
             ],
             [
              0.5555555555555556,
              "#d8576b"
             ],
             [
              0.6666666666666666,
              "#ed7953"
             ],
             [
              0.7777777777777778,
              "#fb9f3a"
             ],
             [
              0.8888888888888888,
              "#fdca26"
             ],
             [
              1,
              "#f0f921"
             ]
            ],
            "type": "histogram2dcontour"
           }
          ],
          "mesh3d": [
           {
            "colorbar": {
             "outlinewidth": 0,
             "ticks": ""
            },
            "type": "mesh3d"
           }
          ],
          "parcoords": [
           {
            "line": {
             "colorbar": {
              "outlinewidth": 0,
              "ticks": ""
             }
            },
            "type": "parcoords"
           }
          ],
          "pie": [
           {
            "automargin": true,
            "type": "pie"
           }
          ],
          "scatter": [
           {
            "marker": {
             "colorbar": {
              "outlinewidth": 0,
              "ticks": ""
             }
            },
            "type": "scatter"
           }
          ],
          "scatter3d": [
           {
            "line": {
             "colorbar": {
              "outlinewidth": 0,
              "ticks": ""
             }
            },
            "marker": {
             "colorbar": {
              "outlinewidth": 0,
              "ticks": ""
             }
            },
            "type": "scatter3d"
           }
          ],
          "scattercarpet": [
           {
            "marker": {
             "colorbar": {
              "outlinewidth": 0,
              "ticks": ""
             }
            },
            "type": "scattercarpet"
           }
          ],
          "scattergeo": [
           {
            "marker": {
             "colorbar": {
              "outlinewidth": 0,
              "ticks": ""
             }
            },
            "type": "scattergeo"
           }
          ],
          "scattergl": [
           {
            "marker": {
             "colorbar": {
              "outlinewidth": 0,
              "ticks": ""
             }
            },
            "type": "scattergl"
           }
          ],
          "scattermapbox": [
           {
            "marker": {
             "colorbar": {
              "outlinewidth": 0,
              "ticks": ""
             }
            },
            "type": "scattermapbox"
           }
          ],
          "scatterpolar": [
           {
            "marker": {
             "colorbar": {
              "outlinewidth": 0,
              "ticks": ""
             }
            },
            "type": "scatterpolar"
           }
          ],
          "scatterpolargl": [
           {
            "marker": {
             "colorbar": {
              "outlinewidth": 0,
              "ticks": ""
             }
            },
            "type": "scatterpolargl"
           }
          ],
          "scatterternary": [
           {
            "marker": {
             "colorbar": {
              "outlinewidth": 0,
              "ticks": ""
             }
            },
            "type": "scatterternary"
           }
          ],
          "surface": [
           {
            "colorbar": {
             "outlinewidth": 0,
             "ticks": ""
            },
            "colorscale": [
             [
              0,
              "#0d0887"
             ],
             [
              0.1111111111111111,
              "#46039f"
             ],
             [
              0.2222222222222222,
              "#7201a8"
             ],
             [
              0.3333333333333333,
              "#9c179e"
             ],
             [
              0.4444444444444444,
              "#bd3786"
             ],
             [
              0.5555555555555556,
              "#d8576b"
             ],
             [
              0.6666666666666666,
              "#ed7953"
             ],
             [
              0.7777777777777778,
              "#fb9f3a"
             ],
             [
              0.8888888888888888,
              "#fdca26"
             ],
             [
              1,
              "#f0f921"
             ]
            ],
            "type": "surface"
           }
          ],
          "table": [
           {
            "cells": {
             "fill": {
              "color": "#EBF0F8"
             },
             "line": {
              "color": "white"
             }
            },
            "header": {
             "fill": {
              "color": "#C8D4E3"
             },
             "line": {
              "color": "white"
             }
            },
            "type": "table"
           }
          ]
         },
         "layout": {
          "annotationdefaults": {
           "arrowcolor": "#2a3f5f",
           "arrowhead": 0,
           "arrowwidth": 1
          },
          "autotypenumbers": "strict",
          "coloraxis": {
           "colorbar": {
            "outlinewidth": 0,
            "ticks": ""
           }
          },
          "colorscale": {
           "diverging": [
            [
             0,
             "#8e0152"
            ],
            [
             0.1,
             "#c51b7d"
            ],
            [
             0.2,
             "#de77ae"
            ],
            [
             0.3,
             "#f1b6da"
            ],
            [
             0.4,
             "#fde0ef"
            ],
            [
             0.5,
             "#f7f7f7"
            ],
            [
             0.6,
             "#e6f5d0"
            ],
            [
             0.7,
             "#b8e186"
            ],
            [
             0.8,
             "#7fbc41"
            ],
            [
             0.9,
             "#4d9221"
            ],
            [
             1,
             "#276419"
            ]
           ],
           "sequential": [
            [
             0,
             "#0d0887"
            ],
            [
             0.1111111111111111,
             "#46039f"
            ],
            [
             0.2222222222222222,
             "#7201a8"
            ],
            [
             0.3333333333333333,
             "#9c179e"
            ],
            [
             0.4444444444444444,
             "#bd3786"
            ],
            [
             0.5555555555555556,
             "#d8576b"
            ],
            [
             0.6666666666666666,
             "#ed7953"
            ],
            [
             0.7777777777777778,
             "#fb9f3a"
            ],
            [
             0.8888888888888888,
             "#fdca26"
            ],
            [
             1,
             "#f0f921"
            ]
           ],
           "sequentialminus": [
            [
             0,
             "#0d0887"
            ],
            [
             0.1111111111111111,
             "#46039f"
            ],
            [
             0.2222222222222222,
             "#7201a8"
            ],
            [
             0.3333333333333333,
             "#9c179e"
            ],
            [
             0.4444444444444444,
             "#bd3786"
            ],
            [
             0.5555555555555556,
             "#d8576b"
            ],
            [
             0.6666666666666666,
             "#ed7953"
            ],
            [
             0.7777777777777778,
             "#fb9f3a"
            ],
            [
             0.8888888888888888,
             "#fdca26"
            ],
            [
             1,
             "#f0f921"
            ]
           ]
          },
          "colorway": [
           "#636efa",
           "#EF553B",
           "#00cc96",
           "#ab63fa",
           "#FFA15A",
           "#19d3f3",
           "#FF6692",
           "#B6E880",
           "#FF97FF",
           "#FECB52"
          ],
          "font": {
           "color": "#2a3f5f"
          },
          "geo": {
           "bgcolor": "white",
           "lakecolor": "white",
           "landcolor": "#E5ECF6",
           "showlakes": true,
           "showland": true,
           "subunitcolor": "white"
          },
          "hoverlabel": {
           "align": "left"
          },
          "hovermode": "closest",
          "mapbox": {
           "style": "light"
          },
          "paper_bgcolor": "white",
          "plot_bgcolor": "#E5ECF6",
          "polar": {
           "angularaxis": {
            "gridcolor": "white",
            "linecolor": "white",
            "ticks": ""
           },
           "bgcolor": "#E5ECF6",
           "radialaxis": {
            "gridcolor": "white",
            "linecolor": "white",
            "ticks": ""
           }
          },
          "scene": {
           "xaxis": {
            "backgroundcolor": "#E5ECF6",
            "gridcolor": "white",
            "gridwidth": 2,
            "linecolor": "white",
            "showbackground": true,
            "ticks": "",
            "zerolinecolor": "white"
           },
           "yaxis": {
            "backgroundcolor": "#E5ECF6",
            "gridcolor": "white",
            "gridwidth": 2,
            "linecolor": "white",
            "showbackground": true,
            "ticks": "",
            "zerolinecolor": "white"
           },
           "zaxis": {
            "backgroundcolor": "#E5ECF6",
            "gridcolor": "white",
            "gridwidth": 2,
            "linecolor": "white",
            "showbackground": true,
            "ticks": "",
            "zerolinecolor": "white"
           }
          },
          "shapedefaults": {
           "line": {
            "color": "#2a3f5f"
           }
          },
          "ternary": {
           "aaxis": {
            "gridcolor": "white",
            "linecolor": "white",
            "ticks": ""
           },
           "baxis": {
            "gridcolor": "white",
            "linecolor": "white",
            "ticks": ""
           },
           "bgcolor": "#E5ECF6",
           "caxis": {
            "gridcolor": "white",
            "linecolor": "white",
            "ticks": ""
           }
          },
          "title": {
           "x": 0.05
          },
          "xaxis": {
           "automargin": true,
           "gridcolor": "white",
           "linecolor": "white",
           "ticks": "",
           "title": {
            "standoff": 15
           },
           "zerolinecolor": "white",
           "zerolinewidth": 2
          },
          "yaxis": {
           "automargin": true,
           "gridcolor": "white",
           "linecolor": "white",
           "ticks": "",
           "title": {
            "standoff": 15
           },
           "zerolinecolor": "white",
           "zerolinewidth": 2
          }
         }
        }
       }
      },
      "text/html": [
       "<div>                            <div id=\"63f1a31a-6f0b-4d4b-96e9-97b773a7596c\" class=\"plotly-graph-div\" style=\"height:525px; width:100%;\"></div>            <script type=\"text/javascript\">                require([\"plotly\"], function(Plotly) {                    window.PLOTLYENV=window.PLOTLYENV || {};                                    if (document.getElementById(\"63f1a31a-6f0b-4d4b-96e9-97b773a7596c\")) {                    Plotly.newPlot(                        \"63f1a31a-6f0b-4d4b-96e9-97b773a7596c\",                        [{\"coloraxis\":\"coloraxis\",\"geo\":\"geo\",\"hovertemplate\":\"<b>%{hovertext}</b><br><br>ISO Code=%{location}<br>Cluster Lables=%{z}<extra></extra>\",\"hovertext\":[\"United States\",\"Egypt\",\"Morocco\",\"Lebanon\",\"Saudi Arabia\",\"Jordan\",\"Turkey\",\"Pakistan\",\"Indonesia\",\"Bangladesh\",\"United Kingdom\",\"France\",\"Germany\",\"Belgium\",\"Spain\",\"Italy\",\"Poland\",\"Hungary\",\"Romania\",\"Sweden\",\"Greece\",\"Denmark\",\"Iran\",\"Singapore\",\"Japan\",\"China\",\"India\",\"Venezuela\",\"Brazil\",\"Mexico\",\"Nigeria\",\"Kenya\",\"Tanzania\",\"Israel\",\"Ghana\",\"Uganda\",\"Benin\",\"Madagascar\",\"Malawi\",\"South Africa\",\"Canada\",\"Australia\",\"Sri Lanka\",\"Vietnam\",\"Thailand\",\"Cambodia\",\"Laos\",\"Myanmar\",\"New Zealand\",\"Angola\",\"Botswana\",\"Ethiopia\",\"Mali\",\"Mauritania\",\"Mozambique\",\"Niger\",\"Rwanda\",\"Senegal\",\"Zambia\",\"Afghanistan\",\"Belarus\",\"Georgia\",\"Kazakhstan\",\"Kyrgyzstan\",\"Russia\",\"Ukraine\",\"Burkina Faso\",\"Cameroon\",\"Sierra Leone\",\"Zimbabwe\",\"Costa Rica\",\"Albania\",\"Algeria\",\"Argentina\",\"Armenia\",\"Austria\",\"Azerbaijan\",\"Bahrain\",\"Belize\",\"Bhutan\",\"Bolivia\",\"Bosnia and Herzegovina\",\"Bulgaria\",\"Burundi\",\"Chad\",\"Chile\",\"Colombia\",\"Croatia\",\"Cuba\",\"Cyprus\",\"Djibouti\",\"Ecuador\",\"El Salvador\",\"Estonia\",\"Finland\",\"Gabon\",\"Guatemala\",\"Guinea\",\"Guyana\",\"Haiti\",\"Honduras\",\"Iceland\",\"Iraq\",\"Ireland\",\"Jamaica\",\"Kuwait\",\"Latvia\",\"Lesotho\",\"Liberia\",\"Libya\",\"Lithuania\",\"Luxembourg\",\"Malaysia\",\"Maldives\",\"Malta\",\"Mauritius\",\"Mongolia\",\"Montenegro\",\"Namibia\",\"Nepal\",\"Nicaragua\",\"Norway\",\"Oman\",\"Panama\",\"Paraguay\",\"Peru\",\"Portugal\",\"Qatar\",\"Serbia\",\"Slovakia\",\"Slovenia\",\"Somalia\",\"Sudan\",\"Suriname\",\"Switzerland\",\"Tajikistan\",\"Togo\",\"Trinidad and Tobago\",\"Tunisia\",\"Uruguay\",\"Uzbekistan\",\"Yemen\",\"South Sudan\"],\"locations\":[\"USA\",\"EGY\",\"MAR\",\"LBN\",\"SAU\",\"JOR\",\"TUR\",\"PAK\",\"IDN\",\"BGD\",\"GBR\",\"FRA\",\"DEU\",\"BEL\",\"ESP\",\"ITA\",\"POL\",\"HUN\",\"ROU\",\"SWE\",\"GRC\",\"DNK\",\"IRN\",\"SGP\",\"JPN\",\"CHN\",\"IND\",\"VEN\",\"BRA\",\"MEX\",\"NGA\",\"KEN\",\"TZA\",\"ISR\",\"GHA\",\"UGA\",\"BEN\",\"MDG\",\"MWI\",\"ZAF\",\"CAN\",\"AUS\",\"LKA\",\"VNM\",\"THA\",\"KHM\",\"LAO\",\"MMR\",\"NZL\",\"AGO\",\"BWA\",\"ETH\",\"MLI\",\"MRT\",\"MOZ\",\"NER\",\"RWA\",\"SEN\",\"ZMB\",\"AFG\",\"BLR\",\"GEO\",\"KAZ\",\"KGZ\",\"RUS\",\"UKR\",\"BFA\",\"CMR\",\"SLE\",\"ZWE\",\"CRI\",\"ALB\",\"DZA\",\"ARG\",\"ARM\",\"AUT\",\"AZE\",\"BHR\",\"BLZ\",\"BTN\",\"BOL\",\"BIH\",\"BGR\",\"BDI\",\"TCD\",\"CHL\",\"COL\",\"HRV\",\"CUB\",\"CYP\",\"DJI\",\"ECU\",\"SLV\",\"EST\",\"FIN\",\"GAB\",\"GTM\",\"GIN\",\"GUY\",\"HTI\",\"HND\",\"ISL\",\"IRQ\",\"IRL\",\"JAM\",\"KWT\",\"LVA\",\"LSO\",\"LBR\",\"LBY\",\"LTU\",\"LUX\",\"MYS\",\"MDV\",\"MLT\",\"MUS\",\"MNG\",\"MNE\",\"NAM\",\"NPL\",\"NIC\",\"NOR\",\"OMN\",\"PAN\",\"PRY\",\"PER\",\"PRT\",\"QAT\",\"SRB\",\"SVK\",\"SVN\",\"SOM\",\"SDN\",\"SUR\",\"CHE\",\"TJK\",\"TGO\",\"TTO\",\"TUN\",\"URY\",\"UZB\",\"YEM\",\"SSD\"],\"name\":\"\",\"type\":\"choropleth\",\"z\":[3,0,0,0,0,0,0,0,4,1,4,3,1,3,3,3,3,3,3,3,1,1,3,2,2,2,2,0,0,0,0,0,0,0,0,0,0,4,0,0,3,2,4,2,0,2,2,1,2,0,0,1,0,0,0,0,0,0,0,0,3,1,0,0,3,3,0,0,0,0,0,3,0,0,3,3,0,4,0,0,0,3,3,0,0,0,0,3,4,4,0,0,0,1,1,1,0,0,0,4,0,4,0,4,4,0,3,0,0,0,1,3,2,4,4,4,2,3,1,1,0,1,0,0,0,0,3,0,1,1,3,0,0,0,3,0,1,4,3,0,0,0,0]}],                        {\"coloraxis\":{\"colorbar\":{\"title\":{\"text\":\"Cluster Lables\"}},\"colorscale\":[[0.0,\"#0d0887\"],[0.1111111111111111,\"#46039f\"],[0.2222222222222222,\"#7201a8\"],[0.3333333333333333,\"#9c179e\"],[0.4444444444444444,\"#bd3786\"],[0.5555555555555556,\"#d8576b\"],[0.6666666666666666,\"#ed7953\"],[0.7777777777777778,\"#fb9f3a\"],[0.8888888888888888,\"#fdca26\"],[1.0,\"#f0f921\"]]},\"geo\":{\"center\":{},\"domain\":{\"x\":[0.0,1.0],\"y\":[0.0,1.0]}},\"legend\":{\"tracegroupgap\":0},\"margin\":{\"t\":60},\"template\":{\"data\":{\"bar\":[{\"error_x\":{\"color\":\"#2a3f5f\"},\"error_y\":{\"color\":\"#2a3f5f\"},\"marker\":{\"line\":{\"color\":\"#E5ECF6\",\"width\":0.5},\"pattern\":{\"fillmode\":\"overlay\",\"size\":10,\"solidity\":0.2}},\"type\":\"bar\"}],\"barpolar\":[{\"marker\":{\"line\":{\"color\":\"#E5ECF6\",\"width\":0.5},\"pattern\":{\"fillmode\":\"overlay\",\"size\":10,\"solidity\":0.2}},\"type\":\"barpolar\"}],\"carpet\":[{\"aaxis\":{\"endlinecolor\":\"#2a3f5f\",\"gridcolor\":\"white\",\"linecolor\":\"white\",\"minorgridcolor\":\"white\",\"startlinecolor\":\"#2a3f5f\"},\"baxis\":{\"endlinecolor\":\"#2a3f5f\",\"gridcolor\":\"white\",\"linecolor\":\"white\",\"minorgridcolor\":\"white\",\"startlinecolor\":\"#2a3f5f\"},\"type\":\"carpet\"}],\"choropleth\":[{\"colorbar\":{\"outlinewidth\":0,\"ticks\":\"\"},\"type\":\"choropleth\"}],\"contour\":[{\"colorbar\":{\"outlinewidth\":0,\"ticks\":\"\"},\"colorscale\":[[0.0,\"#0d0887\"],[0.1111111111111111,\"#46039f\"],[0.2222222222222222,\"#7201a8\"],[0.3333333333333333,\"#9c179e\"],[0.4444444444444444,\"#bd3786\"],[0.5555555555555556,\"#d8576b\"],[0.6666666666666666,\"#ed7953\"],[0.7777777777777778,\"#fb9f3a\"],[0.8888888888888888,\"#fdca26\"],[1.0,\"#f0f921\"]],\"type\":\"contour\"}],\"contourcarpet\":[{\"colorbar\":{\"outlinewidth\":0,\"ticks\":\"\"},\"type\":\"contourcarpet\"}],\"heatmap\":[{\"colorbar\":{\"outlinewidth\":0,\"ticks\":\"\"},\"colorscale\":[[0.0,\"#0d0887\"],[0.1111111111111111,\"#46039f\"],[0.2222222222222222,\"#7201a8\"],[0.3333333333333333,\"#9c179e\"],[0.4444444444444444,\"#bd3786\"],[0.5555555555555556,\"#d8576b\"],[0.6666666666666666,\"#ed7953\"],[0.7777777777777778,\"#fb9f3a\"],[0.8888888888888888,\"#fdca26\"],[1.0,\"#f0f921\"]],\"type\":\"heatmap\"}],\"heatmapgl\":[{\"colorbar\":{\"outlinewidth\":0,\"ticks\":\"\"},\"colorscale\":[[0.0,\"#0d0887\"],[0.1111111111111111,\"#46039f\"],[0.2222222222222222,\"#7201a8\"],[0.3333333333333333,\"#9c179e\"],[0.4444444444444444,\"#bd3786\"],[0.5555555555555556,\"#d8576b\"],[0.6666666666666666,\"#ed7953\"],[0.7777777777777778,\"#fb9f3a\"],[0.8888888888888888,\"#fdca26\"],[1.0,\"#f0f921\"]],\"type\":\"heatmapgl\"}],\"histogram\":[{\"marker\":{\"pattern\":{\"fillmode\":\"overlay\",\"size\":10,\"solidity\":0.2}},\"type\":\"histogram\"}],\"histogram2d\":[{\"colorbar\":{\"outlinewidth\":0,\"ticks\":\"\"},\"colorscale\":[[0.0,\"#0d0887\"],[0.1111111111111111,\"#46039f\"],[0.2222222222222222,\"#7201a8\"],[0.3333333333333333,\"#9c179e\"],[0.4444444444444444,\"#bd3786\"],[0.5555555555555556,\"#d8576b\"],[0.6666666666666666,\"#ed7953\"],[0.7777777777777778,\"#fb9f3a\"],[0.8888888888888888,\"#fdca26\"],[1.0,\"#f0f921\"]],\"type\":\"histogram2d\"}],\"histogram2dcontour\":[{\"colorbar\":{\"outlinewidth\":0,\"ticks\":\"\"},\"colorscale\":[[0.0,\"#0d0887\"],[0.1111111111111111,\"#46039f\"],[0.2222222222222222,\"#7201a8\"],[0.3333333333333333,\"#9c179e\"],[0.4444444444444444,\"#bd3786\"],[0.5555555555555556,\"#d8576b\"],[0.6666666666666666,\"#ed7953\"],[0.7777777777777778,\"#fb9f3a\"],[0.8888888888888888,\"#fdca26\"],[1.0,\"#f0f921\"]],\"type\":\"histogram2dcontour\"}],\"mesh3d\":[{\"colorbar\":{\"outlinewidth\":0,\"ticks\":\"\"},\"type\":\"mesh3d\"}],\"parcoords\":[{\"line\":{\"colorbar\":{\"outlinewidth\":0,\"ticks\":\"\"}},\"type\":\"parcoords\"}],\"pie\":[{\"automargin\":true,\"type\":\"pie\"}],\"scatter\":[{\"marker\":{\"colorbar\":{\"outlinewidth\":0,\"ticks\":\"\"}},\"type\":\"scatter\"}],\"scatter3d\":[{\"line\":{\"colorbar\":{\"outlinewidth\":0,\"ticks\":\"\"}},\"marker\":{\"colorbar\":{\"outlinewidth\":0,\"ticks\":\"\"}},\"type\":\"scatter3d\"}],\"scattercarpet\":[{\"marker\":{\"colorbar\":{\"outlinewidth\":0,\"ticks\":\"\"}},\"type\":\"scattercarpet\"}],\"scattergeo\":[{\"marker\":{\"colorbar\":{\"outlinewidth\":0,\"ticks\":\"\"}},\"type\":\"scattergeo\"}],\"scattergl\":[{\"marker\":{\"colorbar\":{\"outlinewidth\":0,\"ticks\":\"\"}},\"type\":\"scattergl\"}],\"scattermapbox\":[{\"marker\":{\"colorbar\":{\"outlinewidth\":0,\"ticks\":\"\"}},\"type\":\"scattermapbox\"}],\"scatterpolar\":[{\"marker\":{\"colorbar\":{\"outlinewidth\":0,\"ticks\":\"\"}},\"type\":\"scatterpolar\"}],\"scatterpolargl\":[{\"marker\":{\"colorbar\":{\"outlinewidth\":0,\"ticks\":\"\"}},\"type\":\"scatterpolargl\"}],\"scatterternary\":[{\"marker\":{\"colorbar\":{\"outlinewidth\":0,\"ticks\":\"\"}},\"type\":\"scatterternary\"}],\"surface\":[{\"colorbar\":{\"outlinewidth\":0,\"ticks\":\"\"},\"colorscale\":[[0.0,\"#0d0887\"],[0.1111111111111111,\"#46039f\"],[0.2222222222222222,\"#7201a8\"],[0.3333333333333333,\"#9c179e\"],[0.4444444444444444,\"#bd3786\"],[0.5555555555555556,\"#d8576b\"],[0.6666666666666666,\"#ed7953\"],[0.7777777777777778,\"#fb9f3a\"],[0.8888888888888888,\"#fdca26\"],[1.0,\"#f0f921\"]],\"type\":\"surface\"}],\"table\":[{\"cells\":{\"fill\":{\"color\":\"#EBF0F8\"},\"line\":{\"color\":\"white\"}},\"header\":{\"fill\":{\"color\":\"#C8D4E3\"},\"line\":{\"color\":\"white\"}},\"type\":\"table\"}]},\"layout\":{\"annotationdefaults\":{\"arrowcolor\":\"#2a3f5f\",\"arrowhead\":0,\"arrowwidth\":1},\"autotypenumbers\":\"strict\",\"coloraxis\":{\"colorbar\":{\"outlinewidth\":0,\"ticks\":\"\"}},\"colorscale\":{\"diverging\":[[0,\"#8e0152\"],[0.1,\"#c51b7d\"],[0.2,\"#de77ae\"],[0.3,\"#f1b6da\"],[0.4,\"#fde0ef\"],[0.5,\"#f7f7f7\"],[0.6,\"#e6f5d0\"],[0.7,\"#b8e186\"],[0.8,\"#7fbc41\"],[0.9,\"#4d9221\"],[1,\"#276419\"]],\"sequential\":[[0.0,\"#0d0887\"],[0.1111111111111111,\"#46039f\"],[0.2222222222222222,\"#7201a8\"],[0.3333333333333333,\"#9c179e\"],[0.4444444444444444,\"#bd3786\"],[0.5555555555555556,\"#d8576b\"],[0.6666666666666666,\"#ed7953\"],[0.7777777777777778,\"#fb9f3a\"],[0.8888888888888888,\"#fdca26\"],[1.0,\"#f0f921\"]],\"sequentialminus\":[[0.0,\"#0d0887\"],[0.1111111111111111,\"#46039f\"],[0.2222222222222222,\"#7201a8\"],[0.3333333333333333,\"#9c179e\"],[0.4444444444444444,\"#bd3786\"],[0.5555555555555556,\"#d8576b\"],[0.6666666666666666,\"#ed7953\"],[0.7777777777777778,\"#fb9f3a\"],[0.8888888888888888,\"#fdca26\"],[1.0,\"#f0f921\"]]},\"colorway\":[\"#636efa\",\"#EF553B\",\"#00cc96\",\"#ab63fa\",\"#FFA15A\",\"#19d3f3\",\"#FF6692\",\"#B6E880\",\"#FF97FF\",\"#FECB52\"],\"font\":{\"color\":\"#2a3f5f\"},\"geo\":{\"bgcolor\":\"white\",\"lakecolor\":\"white\",\"landcolor\":\"#E5ECF6\",\"showlakes\":true,\"showland\":true,\"subunitcolor\":\"white\"},\"hoverlabel\":{\"align\":\"left\"},\"hovermode\":\"closest\",\"mapbox\":{\"style\":\"light\"},\"paper_bgcolor\":\"white\",\"plot_bgcolor\":\"#E5ECF6\",\"polar\":{\"angularaxis\":{\"gridcolor\":\"white\",\"linecolor\":\"white\",\"ticks\":\"\"},\"bgcolor\":\"#E5ECF6\",\"radialaxis\":{\"gridcolor\":\"white\",\"linecolor\":\"white\",\"ticks\":\"\"}},\"scene\":{\"xaxis\":{\"backgroundcolor\":\"#E5ECF6\",\"gridcolor\":\"white\",\"gridwidth\":2,\"linecolor\":\"white\",\"showbackground\":true,\"ticks\":\"\",\"zerolinecolor\":\"white\"},\"yaxis\":{\"backgroundcolor\":\"#E5ECF6\",\"gridcolor\":\"white\",\"gridwidth\":2,\"linecolor\":\"white\",\"showbackground\":true,\"ticks\":\"\",\"zerolinecolor\":\"white\"},\"zaxis\":{\"backgroundcolor\":\"#E5ECF6\",\"gridcolor\":\"white\",\"gridwidth\":2,\"linecolor\":\"white\",\"showbackground\":true,\"ticks\":\"\",\"zerolinecolor\":\"white\"}},\"shapedefaults\":{\"line\":{\"color\":\"#2a3f5f\"}},\"ternary\":{\"aaxis\":{\"gridcolor\":\"white\",\"linecolor\":\"white\",\"ticks\":\"\"},\"baxis\":{\"gridcolor\":\"white\",\"linecolor\":\"white\",\"ticks\":\"\"},\"bgcolor\":\"#E5ECF6\",\"caxis\":{\"gridcolor\":\"white\",\"linecolor\":\"white\",\"ticks\":\"\"}},\"title\":{\"x\":0.05},\"xaxis\":{\"automargin\":true,\"gridcolor\":\"white\",\"linecolor\":\"white\",\"ticks\":\"\",\"title\":{\"standoff\":15},\"zerolinecolor\":\"white\",\"zerolinewidth\":2},\"yaxis\":{\"automargin\":true,\"gridcolor\":\"white\",\"linecolor\":\"white\",\"ticks\":\"\",\"title\":{\"standoff\":15},\"zerolinecolor\":\"white\",\"zerolinewidth\":2}}}},                        {\"responsive\": true}                    ).then(function(){\n",
       "                            \n",
       "var gd = document.getElementById('63f1a31a-6f0b-4d4b-96e9-97b773a7596c');\n",
       "var x = new MutationObserver(function (mutations, observer) {{\n",
       "        var display = window.getComputedStyle(gd).display;\n",
       "        if (!display || display === 'none') {{\n",
       "            console.log([gd, 'removed!']);\n",
       "            Plotly.purge(gd);\n",
       "            observer.disconnect();\n",
       "        }}\n",
       "}});\n",
       "\n",
       "// Listen for the removal of the full notebook cells\n",
       "var notebookContainer = gd.closest('#notebook-container');\n",
       "if (notebookContainer) {{\n",
       "    x.observe(notebookContainer, {childList: true});\n",
       "}}\n",
       "\n",
       "// Listen for the clearing of the current output cell\n",
       "var outputEl = gd.closest('.output');\n",
       "if (outputEl) {{\n",
       "    x.observe(outputEl, {childList: true});\n",
       "}}\n",
       "\n",
       "                        })                };                });            </script>        </div>"
      ]
     },
     "metadata": {},
     "output_type": "display_data"
    }
   ],
   "source": [
    "fig = px.choropleth(dfiso, locations='ISO Code',\n",
    "                    color='Cluster Lables', \n",
    "                    hover_name='Country', # column to add to hover information\n",
    "                    color_continuous_scale=px.colors.sequential.Plasma)\n",
    "fig.show()"
   ]
  },
  {
   "cell_type": "code",
   "execution_count": 59,
   "id": "241fbe7b",
   "metadata": {},
   "outputs": [
    {
     "data": {
      "application/vnd.plotly.v1+json": {
       "config": {
        "plotlyServerURL": "https://plot.ly"
       },
       "data": [
        {
         "coloraxis": "coloraxis",
         "geo": "geo",
         "hovertemplate": "<b>%{hovertext}</b><br><br>ISO Code=%{location}<br>COVID-19 deaths per 100,000 population in 2020=%{z}<extra></extra>",
         "hovertext": [
          "United States",
          "Egypt",
          "Morocco",
          "Lebanon",
          "Saudi Arabia",
          "Jordan",
          "Turkey",
          "Pakistan",
          "Indonesia",
          "Bangladesh",
          "United Kingdom",
          "France",
          "Germany",
          "Belgium",
          "Spain",
          "Italy",
          "Poland",
          "Hungary",
          "Romania",
          "Sweden",
          "Greece",
          "Denmark",
          "Iran",
          "Singapore",
          "Japan",
          "China",
          "India",
          "Venezuela",
          "Brazil",
          "Mexico",
          "Nigeria",
          "Kenya",
          "Tanzania",
          "Israel",
          "Ghana",
          "Uganda",
          "Benin",
          "Madagascar",
          "Malawi",
          "South Africa",
          "Canada",
          "Australia",
          "Sri Lanka",
          "Vietnam",
          "Thailand",
          "Cambodia",
          "Laos",
          "Myanmar",
          "New Zealand",
          "Angola",
          "Botswana",
          "Ethiopia",
          "Mali",
          "Mauritania",
          "Mozambique",
          "Niger",
          "Rwanda",
          "Senegal",
          "Zambia",
          "Afghanistan",
          "Belarus",
          "Georgia",
          "Kazakhstan",
          "Kyrgyzstan",
          "Russia",
          "Ukraine",
          "Burkina Faso",
          "Cameroon",
          "Sierra Leone",
          "Zimbabwe",
          "Costa Rica",
          "Albania",
          "Algeria",
          "Argentina",
          "Armenia",
          "Austria",
          "Azerbaijan",
          "Bahrain",
          "Belize",
          "Bhutan",
          "Bolivia",
          "Bosnia and Herzegovina",
          "Bulgaria",
          "Burundi",
          "Chad",
          "Chile",
          "Colombia",
          "Croatia",
          "Cuba",
          "Cyprus",
          "Djibouti",
          "Ecuador",
          "El Salvador",
          "Estonia",
          "Finland",
          "Gabon",
          "Guatemala",
          "Guinea",
          "Guyana",
          "Haiti",
          "Honduras",
          "Iceland",
          "Iraq",
          "Ireland",
          "Jamaica",
          "Kuwait",
          "Latvia",
          "Lesotho",
          "Liberia",
          "Libya",
          "Lithuania",
          "Luxembourg",
          "Malaysia",
          "Maldives",
          "Malta",
          "Mauritius",
          "Mongolia",
          "Montenegro",
          "Namibia",
          "Nepal",
          "Nicaragua",
          "Norway",
          "Oman",
          "Panama",
          "Paraguay",
          "Peru",
          "Portugal",
          "Qatar",
          "Serbia",
          "Slovakia",
          "Slovenia",
          "Somalia",
          "Sudan",
          "Suriname",
          "Switzerland",
          "Tajikistan",
          "Togo",
          "Trinidad and Tobago",
          "Tunisia",
          "Uruguay",
          "Uzbekistan",
          "Yemen",
          "South Sudan"
         ],
         "locations": [
          "USA",
          "EGY",
          "MAR",
          "LBN",
          "SAU",
          "JOR",
          "TUR",
          "PAK",
          "IDN",
          "BGD",
          "GBR",
          "FRA",
          "DEU",
          "BEL",
          "ESP",
          "ITA",
          "POL",
          "HUN",
          "ROU",
          "SWE",
          "GRC",
          "DNK",
          "IRN",
          "SGP",
          "JPN",
          "CHN",
          "IND",
          "VEN",
          "BRA",
          "MEX",
          "NGA",
          "KEN",
          "TZA",
          "ISR",
          "GHA",
          "UGA",
          "BEN",
          "MDG",
          "MWI",
          "ZAF",
          "CAN",
          "AUS",
          "LKA",
          "VNM",
          "THA",
          "KHM",
          "LAO",
          "MMR",
          "NZL",
          "AGO",
          "BWA",
          "ETH",
          "MLI",
          "MRT",
          "MOZ",
          "NER",
          "RWA",
          "SEN",
          "ZMB",
          "AFG",
          "BLR",
          "GEO",
          "KAZ",
          "KGZ",
          "RUS",
          "UKR",
          "BFA",
          "CMR",
          "SLE",
          "ZWE",
          "CRI",
          "ALB",
          "DZA",
          "ARG",
          "ARM",
          "AUT",
          "AZE",
          "BHR",
          "BLZ",
          "BTN",
          "BOL",
          "BIH",
          "BGR",
          "BDI",
          "TCD",
          "CHL",
          "COL",
          "HRV",
          "CUB",
          "CYP",
          "DJI",
          "ECU",
          "SLV",
          "EST",
          "FIN",
          "GAB",
          "GTM",
          "GIN",
          "GUY",
          "HTI",
          "HND",
          "ISL",
          "IRQ",
          "IRL",
          "JAM",
          "KWT",
          "LVA",
          "LSO",
          "LBR",
          "LBY",
          "LTU",
          "LUX",
          "MYS",
          "MDV",
          "MLT",
          "MUS",
          "MNG",
          "MNE",
          "NAM",
          "NPL",
          "NIC",
          "NOR",
          "OMN",
          "PAN",
          "PRY",
          "PER",
          "PRT",
          "QAT",
          "SRB",
          "SVK",
          "SVN",
          "SOM",
          "SDN",
          "SUR",
          "CHE",
          "TJK",
          "TGO",
          "TTO",
          "TUN",
          "URY",
          "UZB",
          "YEM",
          "SSD"
         ],
         "name": "",
         "type": "choropleth",
         "z": [
          104.451,
          7.457,
          20.016,
          21.508,
          17.875,
          37.577,
          24.758,
          4.607,
          8.094,
          4.59,
          108.45,
          99.212,
          40.331,
          168.496,
          108.731,
          122.654,
          75.447,
          98.723,
          81.959,
          86.412,
          46.416,
          22.409,
          65.747,
          0.496,
          2.603,
          0.332,
          10.778,
          3.615,
          91.715,
          97.576,
          0.625,
          3.106,
          0.035,
          38.415,
          1.078,
          0.549,
          0.363,
          0.942,
          0.988,
          48.001,
          41.418,
          3.565,
          0.953,
          0.036,
          0.09,
          0,
          0,
          4.929,
          0.518,
          1.232,
          1.786,
          1.673,
          1.328,
          7.463,
          0.531,
          0.43,
          0.71,
          2.449,
          2.11,
          5.628,
          15.07,
          62.795,
          14.704,
          20.769,
          38.559,
          44.087,
          0.407,
          1.688,
          0.953,
          2.442,
          42.893,
          41.038,
          6.285,
          95.684,
          95.268,
          69.084,
          26.048,
          20.687,
          62.371,
          0,
          78.514,
          123.445,
          109.032,
          0.017,
          0.633,
          86.879,
          84.926,
          95.487,
          1.289,
          13.586,
          6.174,
          79.544,
          20.459,
          17.263,
          10.125,
          2.875,
          26.865,
          0.617,
          20.85,
          2.07,
          31.602,
          8.498,
          31.855,
          45.304,
          10.199,
          21.871,
          33.666,
          2.381,
          1.641,
          21.51,
          53.558,
          79.076,
          1.455,
          8.88,
          49.599,
          0.786,
          0.031,
          108.588,
          8.068,
          6.37,
          2.491,
          8.042,
          29.354,
          93.215,
          31.714,
          114.279,
          67.728,
          8.504,
          47.189,
          39.16,
          129.73,
          0.818,
          3.348,
          20.797,
          88.334,
          0.944,
          0.821,
          9.075,
          39.565,
          5.21,
          1.834,
          2.045,
          0.563
         ]
        }
       ],
       "layout": {
        "coloraxis": {
         "colorbar": {
          "title": {
           "text": "COVID-19 deaths per 100,000 population in 2020"
          }
         },
         "colorscale": [
          [
           0,
           "#0d0887"
          ],
          [
           0.1111111111111111,
           "#46039f"
          ],
          [
           0.2222222222222222,
           "#7201a8"
          ],
          [
           0.3333333333333333,
           "#9c179e"
          ],
          [
           0.4444444444444444,
           "#bd3786"
          ],
          [
           0.5555555555555556,
           "#d8576b"
          ],
          [
           0.6666666666666666,
           "#ed7953"
          ],
          [
           0.7777777777777778,
           "#fb9f3a"
          ],
          [
           0.8888888888888888,
           "#fdca26"
          ],
          [
           1,
           "#f0f921"
          ]
         ]
        },
        "geo": {
         "center": {},
         "domain": {
          "x": [
           0,
           1
          ],
          "y": [
           0,
           1
          ]
         }
        },
        "legend": {
         "tracegroupgap": 0
        },
        "margin": {
         "t": 60
        },
        "template": {
         "data": {
          "bar": [
           {
            "error_x": {
             "color": "#2a3f5f"
            },
            "error_y": {
             "color": "#2a3f5f"
            },
            "marker": {
             "line": {
              "color": "#E5ECF6",
              "width": 0.5
             },
             "pattern": {
              "fillmode": "overlay",
              "size": 10,
              "solidity": 0.2
             }
            },
            "type": "bar"
           }
          ],
          "barpolar": [
           {
            "marker": {
             "line": {
              "color": "#E5ECF6",
              "width": 0.5
             },
             "pattern": {
              "fillmode": "overlay",
              "size": 10,
              "solidity": 0.2
             }
            },
            "type": "barpolar"
           }
          ],
          "carpet": [
           {
            "aaxis": {
             "endlinecolor": "#2a3f5f",
             "gridcolor": "white",
             "linecolor": "white",
             "minorgridcolor": "white",
             "startlinecolor": "#2a3f5f"
            },
            "baxis": {
             "endlinecolor": "#2a3f5f",
             "gridcolor": "white",
             "linecolor": "white",
             "minorgridcolor": "white",
             "startlinecolor": "#2a3f5f"
            },
            "type": "carpet"
           }
          ],
          "choropleth": [
           {
            "colorbar": {
             "outlinewidth": 0,
             "ticks": ""
            },
            "type": "choropleth"
           }
          ],
          "contour": [
           {
            "colorbar": {
             "outlinewidth": 0,
             "ticks": ""
            },
            "colorscale": [
             [
              0,
              "#0d0887"
             ],
             [
              0.1111111111111111,
              "#46039f"
             ],
             [
              0.2222222222222222,
              "#7201a8"
             ],
             [
              0.3333333333333333,
              "#9c179e"
             ],
             [
              0.4444444444444444,
              "#bd3786"
             ],
             [
              0.5555555555555556,
              "#d8576b"
             ],
             [
              0.6666666666666666,
              "#ed7953"
             ],
             [
              0.7777777777777778,
              "#fb9f3a"
             ],
             [
              0.8888888888888888,
              "#fdca26"
             ],
             [
              1,
              "#f0f921"
             ]
            ],
            "type": "contour"
           }
          ],
          "contourcarpet": [
           {
            "colorbar": {
             "outlinewidth": 0,
             "ticks": ""
            },
            "type": "contourcarpet"
           }
          ],
          "heatmap": [
           {
            "colorbar": {
             "outlinewidth": 0,
             "ticks": ""
            },
            "colorscale": [
             [
              0,
              "#0d0887"
             ],
             [
              0.1111111111111111,
              "#46039f"
             ],
             [
              0.2222222222222222,
              "#7201a8"
             ],
             [
              0.3333333333333333,
              "#9c179e"
             ],
             [
              0.4444444444444444,
              "#bd3786"
             ],
             [
              0.5555555555555556,
              "#d8576b"
             ],
             [
              0.6666666666666666,
              "#ed7953"
             ],
             [
              0.7777777777777778,
              "#fb9f3a"
             ],
             [
              0.8888888888888888,
              "#fdca26"
             ],
             [
              1,
              "#f0f921"
             ]
            ],
            "type": "heatmap"
           }
          ],
          "heatmapgl": [
           {
            "colorbar": {
             "outlinewidth": 0,
             "ticks": ""
            },
            "colorscale": [
             [
              0,
              "#0d0887"
             ],
             [
              0.1111111111111111,
              "#46039f"
             ],
             [
              0.2222222222222222,
              "#7201a8"
             ],
             [
              0.3333333333333333,
              "#9c179e"
             ],
             [
              0.4444444444444444,
              "#bd3786"
             ],
             [
              0.5555555555555556,
              "#d8576b"
             ],
             [
              0.6666666666666666,
              "#ed7953"
             ],
             [
              0.7777777777777778,
              "#fb9f3a"
             ],
             [
              0.8888888888888888,
              "#fdca26"
             ],
             [
              1,
              "#f0f921"
             ]
            ],
            "type": "heatmapgl"
           }
          ],
          "histogram": [
           {
            "marker": {
             "pattern": {
              "fillmode": "overlay",
              "size": 10,
              "solidity": 0.2
             }
            },
            "type": "histogram"
           }
          ],
          "histogram2d": [
           {
            "colorbar": {
             "outlinewidth": 0,
             "ticks": ""
            },
            "colorscale": [
             [
              0,
              "#0d0887"
             ],
             [
              0.1111111111111111,
              "#46039f"
             ],
             [
              0.2222222222222222,
              "#7201a8"
             ],
             [
              0.3333333333333333,
              "#9c179e"
             ],
             [
              0.4444444444444444,
              "#bd3786"
             ],
             [
              0.5555555555555556,
              "#d8576b"
             ],
             [
              0.6666666666666666,
              "#ed7953"
             ],
             [
              0.7777777777777778,
              "#fb9f3a"
             ],
             [
              0.8888888888888888,
              "#fdca26"
             ],
             [
              1,
              "#f0f921"
             ]
            ],
            "type": "histogram2d"
           }
          ],
          "histogram2dcontour": [
           {
            "colorbar": {
             "outlinewidth": 0,
             "ticks": ""
            },
            "colorscale": [
             [
              0,
              "#0d0887"
             ],
             [
              0.1111111111111111,
              "#46039f"
             ],
             [
              0.2222222222222222,
              "#7201a8"
             ],
             [
              0.3333333333333333,
              "#9c179e"
             ],
             [
              0.4444444444444444,
              "#bd3786"
             ],
             [
              0.5555555555555556,
              "#d8576b"
             ],
             [
              0.6666666666666666,
              "#ed7953"
             ],
             [
              0.7777777777777778,
              "#fb9f3a"
             ],
             [
              0.8888888888888888,
              "#fdca26"
             ],
             [
              1,
              "#f0f921"
             ]
            ],
            "type": "histogram2dcontour"
           }
          ],
          "mesh3d": [
           {
            "colorbar": {
             "outlinewidth": 0,
             "ticks": ""
            },
            "type": "mesh3d"
           }
          ],
          "parcoords": [
           {
            "line": {
             "colorbar": {
              "outlinewidth": 0,
              "ticks": ""
             }
            },
            "type": "parcoords"
           }
          ],
          "pie": [
           {
            "automargin": true,
            "type": "pie"
           }
          ],
          "scatter": [
           {
            "marker": {
             "colorbar": {
              "outlinewidth": 0,
              "ticks": ""
             }
            },
            "type": "scatter"
           }
          ],
          "scatter3d": [
           {
            "line": {
             "colorbar": {
              "outlinewidth": 0,
              "ticks": ""
             }
            },
            "marker": {
             "colorbar": {
              "outlinewidth": 0,
              "ticks": ""
             }
            },
            "type": "scatter3d"
           }
          ],
          "scattercarpet": [
           {
            "marker": {
             "colorbar": {
              "outlinewidth": 0,
              "ticks": ""
             }
            },
            "type": "scattercarpet"
           }
          ],
          "scattergeo": [
           {
            "marker": {
             "colorbar": {
              "outlinewidth": 0,
              "ticks": ""
             }
            },
            "type": "scattergeo"
           }
          ],
          "scattergl": [
           {
            "marker": {
             "colorbar": {
              "outlinewidth": 0,
              "ticks": ""
             }
            },
            "type": "scattergl"
           }
          ],
          "scattermapbox": [
           {
            "marker": {
             "colorbar": {
              "outlinewidth": 0,
              "ticks": ""
             }
            },
            "type": "scattermapbox"
           }
          ],
          "scatterpolar": [
           {
            "marker": {
             "colorbar": {
              "outlinewidth": 0,
              "ticks": ""
             }
            },
            "type": "scatterpolar"
           }
          ],
          "scatterpolargl": [
           {
            "marker": {
             "colorbar": {
              "outlinewidth": 0,
              "ticks": ""
             }
            },
            "type": "scatterpolargl"
           }
          ],
          "scatterternary": [
           {
            "marker": {
             "colorbar": {
              "outlinewidth": 0,
              "ticks": ""
             }
            },
            "type": "scatterternary"
           }
          ],
          "surface": [
           {
            "colorbar": {
             "outlinewidth": 0,
             "ticks": ""
            },
            "colorscale": [
             [
              0,
              "#0d0887"
             ],
             [
              0.1111111111111111,
              "#46039f"
             ],
             [
              0.2222222222222222,
              "#7201a8"
             ],
             [
              0.3333333333333333,
              "#9c179e"
             ],
             [
              0.4444444444444444,
              "#bd3786"
             ],
             [
              0.5555555555555556,
              "#d8576b"
             ],
             [
              0.6666666666666666,
              "#ed7953"
             ],
             [
              0.7777777777777778,
              "#fb9f3a"
             ],
             [
              0.8888888888888888,
              "#fdca26"
             ],
             [
              1,
              "#f0f921"
             ]
            ],
            "type": "surface"
           }
          ],
          "table": [
           {
            "cells": {
             "fill": {
              "color": "#EBF0F8"
             },
             "line": {
              "color": "white"
             }
            },
            "header": {
             "fill": {
              "color": "#C8D4E3"
             },
             "line": {
              "color": "white"
             }
            },
            "type": "table"
           }
          ]
         },
         "layout": {
          "annotationdefaults": {
           "arrowcolor": "#2a3f5f",
           "arrowhead": 0,
           "arrowwidth": 1
          },
          "autotypenumbers": "strict",
          "coloraxis": {
           "colorbar": {
            "outlinewidth": 0,
            "ticks": ""
           }
          },
          "colorscale": {
           "diverging": [
            [
             0,
             "#8e0152"
            ],
            [
             0.1,
             "#c51b7d"
            ],
            [
             0.2,
             "#de77ae"
            ],
            [
             0.3,
             "#f1b6da"
            ],
            [
             0.4,
             "#fde0ef"
            ],
            [
             0.5,
             "#f7f7f7"
            ],
            [
             0.6,
             "#e6f5d0"
            ],
            [
             0.7,
             "#b8e186"
            ],
            [
             0.8,
             "#7fbc41"
            ],
            [
             0.9,
             "#4d9221"
            ],
            [
             1,
             "#276419"
            ]
           ],
           "sequential": [
            [
             0,
             "#0d0887"
            ],
            [
             0.1111111111111111,
             "#46039f"
            ],
            [
             0.2222222222222222,
             "#7201a8"
            ],
            [
             0.3333333333333333,
             "#9c179e"
            ],
            [
             0.4444444444444444,
             "#bd3786"
            ],
            [
             0.5555555555555556,
             "#d8576b"
            ],
            [
             0.6666666666666666,
             "#ed7953"
            ],
            [
             0.7777777777777778,
             "#fb9f3a"
            ],
            [
             0.8888888888888888,
             "#fdca26"
            ],
            [
             1,
             "#f0f921"
            ]
           ],
           "sequentialminus": [
            [
             0,
             "#0d0887"
            ],
            [
             0.1111111111111111,
             "#46039f"
            ],
            [
             0.2222222222222222,
             "#7201a8"
            ],
            [
             0.3333333333333333,
             "#9c179e"
            ],
            [
             0.4444444444444444,
             "#bd3786"
            ],
            [
             0.5555555555555556,
             "#d8576b"
            ],
            [
             0.6666666666666666,
             "#ed7953"
            ],
            [
             0.7777777777777778,
             "#fb9f3a"
            ],
            [
             0.8888888888888888,
             "#fdca26"
            ],
            [
             1,
             "#f0f921"
            ]
           ]
          },
          "colorway": [
           "#636efa",
           "#EF553B",
           "#00cc96",
           "#ab63fa",
           "#FFA15A",
           "#19d3f3",
           "#FF6692",
           "#B6E880",
           "#FF97FF",
           "#FECB52"
          ],
          "font": {
           "color": "#2a3f5f"
          },
          "geo": {
           "bgcolor": "white",
           "lakecolor": "white",
           "landcolor": "#E5ECF6",
           "showlakes": true,
           "showland": true,
           "subunitcolor": "white"
          },
          "hoverlabel": {
           "align": "left"
          },
          "hovermode": "closest",
          "mapbox": {
           "style": "light"
          },
          "paper_bgcolor": "white",
          "plot_bgcolor": "#E5ECF6",
          "polar": {
           "angularaxis": {
            "gridcolor": "white",
            "linecolor": "white",
            "ticks": ""
           },
           "bgcolor": "#E5ECF6",
           "radialaxis": {
            "gridcolor": "white",
            "linecolor": "white",
            "ticks": ""
           }
          },
          "scene": {
           "xaxis": {
            "backgroundcolor": "#E5ECF6",
            "gridcolor": "white",
            "gridwidth": 2,
            "linecolor": "white",
            "showbackground": true,
            "ticks": "",
            "zerolinecolor": "white"
           },
           "yaxis": {
            "backgroundcolor": "#E5ECF6",
            "gridcolor": "white",
            "gridwidth": 2,
            "linecolor": "white",
            "showbackground": true,
            "ticks": "",
            "zerolinecolor": "white"
           },
           "zaxis": {
            "backgroundcolor": "#E5ECF6",
            "gridcolor": "white",
            "gridwidth": 2,
            "linecolor": "white",
            "showbackground": true,
            "ticks": "",
            "zerolinecolor": "white"
           }
          },
          "shapedefaults": {
           "line": {
            "color": "#2a3f5f"
           }
          },
          "ternary": {
           "aaxis": {
            "gridcolor": "white",
            "linecolor": "white",
            "ticks": ""
           },
           "baxis": {
            "gridcolor": "white",
            "linecolor": "white",
            "ticks": ""
           },
           "bgcolor": "#E5ECF6",
           "caxis": {
            "gridcolor": "white",
            "linecolor": "white",
            "ticks": ""
           }
          },
          "title": {
           "x": 0.05
          },
          "xaxis": {
           "automargin": true,
           "gridcolor": "white",
           "linecolor": "white",
           "ticks": "",
           "title": {
            "standoff": 15
           },
           "zerolinecolor": "white",
           "zerolinewidth": 2
          },
          "yaxis": {
           "automargin": true,
           "gridcolor": "white",
           "linecolor": "white",
           "ticks": "",
           "title": {
            "standoff": 15
           },
           "zerolinecolor": "white",
           "zerolinewidth": 2
          }
         }
        }
       }
      },
      "text/html": [
       "<div>                            <div id=\"5808abc9-a9b3-4327-b2cd-381f1830a52e\" class=\"plotly-graph-div\" style=\"height:525px; width:100%;\"></div>            <script type=\"text/javascript\">                require([\"plotly\"], function(Plotly) {                    window.PLOTLYENV=window.PLOTLYENV || {};                                    if (document.getElementById(\"5808abc9-a9b3-4327-b2cd-381f1830a52e\")) {                    Plotly.newPlot(                        \"5808abc9-a9b3-4327-b2cd-381f1830a52e\",                        [{\"coloraxis\":\"coloraxis\",\"geo\":\"geo\",\"hovertemplate\":\"<b>%{hovertext}</b><br><br>ISO Code=%{location}<br>COVID-19 deaths per 100,000 population in 2020=%{z}<extra></extra>\",\"hovertext\":[\"United States\",\"Egypt\",\"Morocco\",\"Lebanon\",\"Saudi Arabia\",\"Jordan\",\"Turkey\",\"Pakistan\",\"Indonesia\",\"Bangladesh\",\"United Kingdom\",\"France\",\"Germany\",\"Belgium\",\"Spain\",\"Italy\",\"Poland\",\"Hungary\",\"Romania\",\"Sweden\",\"Greece\",\"Denmark\",\"Iran\",\"Singapore\",\"Japan\",\"China\",\"India\",\"Venezuela\",\"Brazil\",\"Mexico\",\"Nigeria\",\"Kenya\",\"Tanzania\",\"Israel\",\"Ghana\",\"Uganda\",\"Benin\",\"Madagascar\",\"Malawi\",\"South Africa\",\"Canada\",\"Australia\",\"Sri Lanka\",\"Vietnam\",\"Thailand\",\"Cambodia\",\"Laos\",\"Myanmar\",\"New Zealand\",\"Angola\",\"Botswana\",\"Ethiopia\",\"Mali\",\"Mauritania\",\"Mozambique\",\"Niger\",\"Rwanda\",\"Senegal\",\"Zambia\",\"Afghanistan\",\"Belarus\",\"Georgia\",\"Kazakhstan\",\"Kyrgyzstan\",\"Russia\",\"Ukraine\",\"Burkina Faso\",\"Cameroon\",\"Sierra Leone\",\"Zimbabwe\",\"Costa Rica\",\"Albania\",\"Algeria\",\"Argentina\",\"Armenia\",\"Austria\",\"Azerbaijan\",\"Bahrain\",\"Belize\",\"Bhutan\",\"Bolivia\",\"Bosnia and Herzegovina\",\"Bulgaria\",\"Burundi\",\"Chad\",\"Chile\",\"Colombia\",\"Croatia\",\"Cuba\",\"Cyprus\",\"Djibouti\",\"Ecuador\",\"El Salvador\",\"Estonia\",\"Finland\",\"Gabon\",\"Guatemala\",\"Guinea\",\"Guyana\",\"Haiti\",\"Honduras\",\"Iceland\",\"Iraq\",\"Ireland\",\"Jamaica\",\"Kuwait\",\"Latvia\",\"Lesotho\",\"Liberia\",\"Libya\",\"Lithuania\",\"Luxembourg\",\"Malaysia\",\"Maldives\",\"Malta\",\"Mauritius\",\"Mongolia\",\"Montenegro\",\"Namibia\",\"Nepal\",\"Nicaragua\",\"Norway\",\"Oman\",\"Panama\",\"Paraguay\",\"Peru\",\"Portugal\",\"Qatar\",\"Serbia\",\"Slovakia\",\"Slovenia\",\"Somalia\",\"Sudan\",\"Suriname\",\"Switzerland\",\"Tajikistan\",\"Togo\",\"Trinidad and Tobago\",\"Tunisia\",\"Uruguay\",\"Uzbekistan\",\"Yemen\",\"South Sudan\"],\"locations\":[\"USA\",\"EGY\",\"MAR\",\"LBN\",\"SAU\",\"JOR\",\"TUR\",\"PAK\",\"IDN\",\"BGD\",\"GBR\",\"FRA\",\"DEU\",\"BEL\",\"ESP\",\"ITA\",\"POL\",\"HUN\",\"ROU\",\"SWE\",\"GRC\",\"DNK\",\"IRN\",\"SGP\",\"JPN\",\"CHN\",\"IND\",\"VEN\",\"BRA\",\"MEX\",\"NGA\",\"KEN\",\"TZA\",\"ISR\",\"GHA\",\"UGA\",\"BEN\",\"MDG\",\"MWI\",\"ZAF\",\"CAN\",\"AUS\",\"LKA\",\"VNM\",\"THA\",\"KHM\",\"LAO\",\"MMR\",\"NZL\",\"AGO\",\"BWA\",\"ETH\",\"MLI\",\"MRT\",\"MOZ\",\"NER\",\"RWA\",\"SEN\",\"ZMB\",\"AFG\",\"BLR\",\"GEO\",\"KAZ\",\"KGZ\",\"RUS\",\"UKR\",\"BFA\",\"CMR\",\"SLE\",\"ZWE\",\"CRI\",\"ALB\",\"DZA\",\"ARG\",\"ARM\",\"AUT\",\"AZE\",\"BHR\",\"BLZ\",\"BTN\",\"BOL\",\"BIH\",\"BGR\",\"BDI\",\"TCD\",\"CHL\",\"COL\",\"HRV\",\"CUB\",\"CYP\",\"DJI\",\"ECU\",\"SLV\",\"EST\",\"FIN\",\"GAB\",\"GTM\",\"GIN\",\"GUY\",\"HTI\",\"HND\",\"ISL\",\"IRQ\",\"IRL\",\"JAM\",\"KWT\",\"LVA\",\"LSO\",\"LBR\",\"LBY\",\"LTU\",\"LUX\",\"MYS\",\"MDV\",\"MLT\",\"MUS\",\"MNG\",\"MNE\",\"NAM\",\"NPL\",\"NIC\",\"NOR\",\"OMN\",\"PAN\",\"PRY\",\"PER\",\"PRT\",\"QAT\",\"SRB\",\"SVK\",\"SVN\",\"SOM\",\"SDN\",\"SUR\",\"CHE\",\"TJK\",\"TGO\",\"TTO\",\"TUN\",\"URY\",\"UZB\",\"YEM\",\"SSD\"],\"name\":\"\",\"type\":\"choropleth\",\"z\":[104.451,7.457,20.016,21.508,17.875,37.577,24.758,4.607,8.094,4.59,108.45,99.212,40.331,168.496,108.731,122.654,75.447,98.723,81.959,86.412,46.416,22.409,65.747,0.496,2.603,0.332,10.778,3.615,91.715,97.576,0.625,3.106,0.035,38.415,1.078,0.549,0.363,0.942,0.988,48.001,41.418,3.565,0.953,0.036,0.09,0.0,0.0,4.929,0.518,1.232,1.786,1.673,1.328,7.463,0.531,0.43,0.71,2.449,2.11,5.628,15.07,62.795,14.704,20.769,38.559,44.087,0.407,1.688,0.953,2.442,42.893,41.038,6.285,95.684,95.268,69.084,26.048,20.687,62.371,0.0,78.514,123.445,109.032,0.017,0.633,86.879,84.926,95.487,1.289,13.586,6.174,79.544,20.459,17.263,10.125,2.875,26.865,0.617,20.85,2.07,31.602,8.498,31.855,45.304,10.199,21.871,33.666,2.381,1.641,21.51,53.558,79.076,1.455,8.88,49.599,0.786,0.031,108.588,8.068,6.37,2.491,8.042,29.354,93.215,31.714,114.279,67.728,8.504,47.189,39.16,129.73,0.818,3.348,20.797,88.334,0.944,0.821,9.075,39.565,5.21,1.834,2.045,0.563]}],                        {\"coloraxis\":{\"colorbar\":{\"title\":{\"text\":\"COVID-19 deaths per 100,000 population in 2020\"}},\"colorscale\":[[0.0,\"#0d0887\"],[0.1111111111111111,\"#46039f\"],[0.2222222222222222,\"#7201a8\"],[0.3333333333333333,\"#9c179e\"],[0.4444444444444444,\"#bd3786\"],[0.5555555555555556,\"#d8576b\"],[0.6666666666666666,\"#ed7953\"],[0.7777777777777778,\"#fb9f3a\"],[0.8888888888888888,\"#fdca26\"],[1.0,\"#f0f921\"]]},\"geo\":{\"center\":{},\"domain\":{\"x\":[0.0,1.0],\"y\":[0.0,1.0]}},\"legend\":{\"tracegroupgap\":0},\"margin\":{\"t\":60},\"template\":{\"data\":{\"bar\":[{\"error_x\":{\"color\":\"#2a3f5f\"},\"error_y\":{\"color\":\"#2a3f5f\"},\"marker\":{\"line\":{\"color\":\"#E5ECF6\",\"width\":0.5},\"pattern\":{\"fillmode\":\"overlay\",\"size\":10,\"solidity\":0.2}},\"type\":\"bar\"}],\"barpolar\":[{\"marker\":{\"line\":{\"color\":\"#E5ECF6\",\"width\":0.5},\"pattern\":{\"fillmode\":\"overlay\",\"size\":10,\"solidity\":0.2}},\"type\":\"barpolar\"}],\"carpet\":[{\"aaxis\":{\"endlinecolor\":\"#2a3f5f\",\"gridcolor\":\"white\",\"linecolor\":\"white\",\"minorgridcolor\":\"white\",\"startlinecolor\":\"#2a3f5f\"},\"baxis\":{\"endlinecolor\":\"#2a3f5f\",\"gridcolor\":\"white\",\"linecolor\":\"white\",\"minorgridcolor\":\"white\",\"startlinecolor\":\"#2a3f5f\"},\"type\":\"carpet\"}],\"choropleth\":[{\"colorbar\":{\"outlinewidth\":0,\"ticks\":\"\"},\"type\":\"choropleth\"}],\"contour\":[{\"colorbar\":{\"outlinewidth\":0,\"ticks\":\"\"},\"colorscale\":[[0.0,\"#0d0887\"],[0.1111111111111111,\"#46039f\"],[0.2222222222222222,\"#7201a8\"],[0.3333333333333333,\"#9c179e\"],[0.4444444444444444,\"#bd3786\"],[0.5555555555555556,\"#d8576b\"],[0.6666666666666666,\"#ed7953\"],[0.7777777777777778,\"#fb9f3a\"],[0.8888888888888888,\"#fdca26\"],[1.0,\"#f0f921\"]],\"type\":\"contour\"}],\"contourcarpet\":[{\"colorbar\":{\"outlinewidth\":0,\"ticks\":\"\"},\"type\":\"contourcarpet\"}],\"heatmap\":[{\"colorbar\":{\"outlinewidth\":0,\"ticks\":\"\"},\"colorscale\":[[0.0,\"#0d0887\"],[0.1111111111111111,\"#46039f\"],[0.2222222222222222,\"#7201a8\"],[0.3333333333333333,\"#9c179e\"],[0.4444444444444444,\"#bd3786\"],[0.5555555555555556,\"#d8576b\"],[0.6666666666666666,\"#ed7953\"],[0.7777777777777778,\"#fb9f3a\"],[0.8888888888888888,\"#fdca26\"],[1.0,\"#f0f921\"]],\"type\":\"heatmap\"}],\"heatmapgl\":[{\"colorbar\":{\"outlinewidth\":0,\"ticks\":\"\"},\"colorscale\":[[0.0,\"#0d0887\"],[0.1111111111111111,\"#46039f\"],[0.2222222222222222,\"#7201a8\"],[0.3333333333333333,\"#9c179e\"],[0.4444444444444444,\"#bd3786\"],[0.5555555555555556,\"#d8576b\"],[0.6666666666666666,\"#ed7953\"],[0.7777777777777778,\"#fb9f3a\"],[0.8888888888888888,\"#fdca26\"],[1.0,\"#f0f921\"]],\"type\":\"heatmapgl\"}],\"histogram\":[{\"marker\":{\"pattern\":{\"fillmode\":\"overlay\",\"size\":10,\"solidity\":0.2}},\"type\":\"histogram\"}],\"histogram2d\":[{\"colorbar\":{\"outlinewidth\":0,\"ticks\":\"\"},\"colorscale\":[[0.0,\"#0d0887\"],[0.1111111111111111,\"#46039f\"],[0.2222222222222222,\"#7201a8\"],[0.3333333333333333,\"#9c179e\"],[0.4444444444444444,\"#bd3786\"],[0.5555555555555556,\"#d8576b\"],[0.6666666666666666,\"#ed7953\"],[0.7777777777777778,\"#fb9f3a\"],[0.8888888888888888,\"#fdca26\"],[1.0,\"#f0f921\"]],\"type\":\"histogram2d\"}],\"histogram2dcontour\":[{\"colorbar\":{\"outlinewidth\":0,\"ticks\":\"\"},\"colorscale\":[[0.0,\"#0d0887\"],[0.1111111111111111,\"#46039f\"],[0.2222222222222222,\"#7201a8\"],[0.3333333333333333,\"#9c179e\"],[0.4444444444444444,\"#bd3786\"],[0.5555555555555556,\"#d8576b\"],[0.6666666666666666,\"#ed7953\"],[0.7777777777777778,\"#fb9f3a\"],[0.8888888888888888,\"#fdca26\"],[1.0,\"#f0f921\"]],\"type\":\"histogram2dcontour\"}],\"mesh3d\":[{\"colorbar\":{\"outlinewidth\":0,\"ticks\":\"\"},\"type\":\"mesh3d\"}],\"parcoords\":[{\"line\":{\"colorbar\":{\"outlinewidth\":0,\"ticks\":\"\"}},\"type\":\"parcoords\"}],\"pie\":[{\"automargin\":true,\"type\":\"pie\"}],\"scatter\":[{\"marker\":{\"colorbar\":{\"outlinewidth\":0,\"ticks\":\"\"}},\"type\":\"scatter\"}],\"scatter3d\":[{\"line\":{\"colorbar\":{\"outlinewidth\":0,\"ticks\":\"\"}},\"marker\":{\"colorbar\":{\"outlinewidth\":0,\"ticks\":\"\"}},\"type\":\"scatter3d\"}],\"scattercarpet\":[{\"marker\":{\"colorbar\":{\"outlinewidth\":0,\"ticks\":\"\"}},\"type\":\"scattercarpet\"}],\"scattergeo\":[{\"marker\":{\"colorbar\":{\"outlinewidth\":0,\"ticks\":\"\"}},\"type\":\"scattergeo\"}],\"scattergl\":[{\"marker\":{\"colorbar\":{\"outlinewidth\":0,\"ticks\":\"\"}},\"type\":\"scattergl\"}],\"scattermapbox\":[{\"marker\":{\"colorbar\":{\"outlinewidth\":0,\"ticks\":\"\"}},\"type\":\"scattermapbox\"}],\"scatterpolar\":[{\"marker\":{\"colorbar\":{\"outlinewidth\":0,\"ticks\":\"\"}},\"type\":\"scatterpolar\"}],\"scatterpolargl\":[{\"marker\":{\"colorbar\":{\"outlinewidth\":0,\"ticks\":\"\"}},\"type\":\"scatterpolargl\"}],\"scatterternary\":[{\"marker\":{\"colorbar\":{\"outlinewidth\":0,\"ticks\":\"\"}},\"type\":\"scatterternary\"}],\"surface\":[{\"colorbar\":{\"outlinewidth\":0,\"ticks\":\"\"},\"colorscale\":[[0.0,\"#0d0887\"],[0.1111111111111111,\"#46039f\"],[0.2222222222222222,\"#7201a8\"],[0.3333333333333333,\"#9c179e\"],[0.4444444444444444,\"#bd3786\"],[0.5555555555555556,\"#d8576b\"],[0.6666666666666666,\"#ed7953\"],[0.7777777777777778,\"#fb9f3a\"],[0.8888888888888888,\"#fdca26\"],[1.0,\"#f0f921\"]],\"type\":\"surface\"}],\"table\":[{\"cells\":{\"fill\":{\"color\":\"#EBF0F8\"},\"line\":{\"color\":\"white\"}},\"header\":{\"fill\":{\"color\":\"#C8D4E3\"},\"line\":{\"color\":\"white\"}},\"type\":\"table\"}]},\"layout\":{\"annotationdefaults\":{\"arrowcolor\":\"#2a3f5f\",\"arrowhead\":0,\"arrowwidth\":1},\"autotypenumbers\":\"strict\",\"coloraxis\":{\"colorbar\":{\"outlinewidth\":0,\"ticks\":\"\"}},\"colorscale\":{\"diverging\":[[0,\"#8e0152\"],[0.1,\"#c51b7d\"],[0.2,\"#de77ae\"],[0.3,\"#f1b6da\"],[0.4,\"#fde0ef\"],[0.5,\"#f7f7f7\"],[0.6,\"#e6f5d0\"],[0.7,\"#b8e186\"],[0.8,\"#7fbc41\"],[0.9,\"#4d9221\"],[1,\"#276419\"]],\"sequential\":[[0.0,\"#0d0887\"],[0.1111111111111111,\"#46039f\"],[0.2222222222222222,\"#7201a8\"],[0.3333333333333333,\"#9c179e\"],[0.4444444444444444,\"#bd3786\"],[0.5555555555555556,\"#d8576b\"],[0.6666666666666666,\"#ed7953\"],[0.7777777777777778,\"#fb9f3a\"],[0.8888888888888888,\"#fdca26\"],[1.0,\"#f0f921\"]],\"sequentialminus\":[[0.0,\"#0d0887\"],[0.1111111111111111,\"#46039f\"],[0.2222222222222222,\"#7201a8\"],[0.3333333333333333,\"#9c179e\"],[0.4444444444444444,\"#bd3786\"],[0.5555555555555556,\"#d8576b\"],[0.6666666666666666,\"#ed7953\"],[0.7777777777777778,\"#fb9f3a\"],[0.8888888888888888,\"#fdca26\"],[1.0,\"#f0f921\"]]},\"colorway\":[\"#636efa\",\"#EF553B\",\"#00cc96\",\"#ab63fa\",\"#FFA15A\",\"#19d3f3\",\"#FF6692\",\"#B6E880\",\"#FF97FF\",\"#FECB52\"],\"font\":{\"color\":\"#2a3f5f\"},\"geo\":{\"bgcolor\":\"white\",\"lakecolor\":\"white\",\"landcolor\":\"#E5ECF6\",\"showlakes\":true,\"showland\":true,\"subunitcolor\":\"white\"},\"hoverlabel\":{\"align\":\"left\"},\"hovermode\":\"closest\",\"mapbox\":{\"style\":\"light\"},\"paper_bgcolor\":\"white\",\"plot_bgcolor\":\"#E5ECF6\",\"polar\":{\"angularaxis\":{\"gridcolor\":\"white\",\"linecolor\":\"white\",\"ticks\":\"\"},\"bgcolor\":\"#E5ECF6\",\"radialaxis\":{\"gridcolor\":\"white\",\"linecolor\":\"white\",\"ticks\":\"\"}},\"scene\":{\"xaxis\":{\"backgroundcolor\":\"#E5ECF6\",\"gridcolor\":\"white\",\"gridwidth\":2,\"linecolor\":\"white\",\"showbackground\":true,\"ticks\":\"\",\"zerolinecolor\":\"white\"},\"yaxis\":{\"backgroundcolor\":\"#E5ECF6\",\"gridcolor\":\"white\",\"gridwidth\":2,\"linecolor\":\"white\",\"showbackground\":true,\"ticks\":\"\",\"zerolinecolor\":\"white\"},\"zaxis\":{\"backgroundcolor\":\"#E5ECF6\",\"gridcolor\":\"white\",\"gridwidth\":2,\"linecolor\":\"white\",\"showbackground\":true,\"ticks\":\"\",\"zerolinecolor\":\"white\"}},\"shapedefaults\":{\"line\":{\"color\":\"#2a3f5f\"}},\"ternary\":{\"aaxis\":{\"gridcolor\":\"white\",\"linecolor\":\"white\",\"ticks\":\"\"},\"baxis\":{\"gridcolor\":\"white\",\"linecolor\":\"white\",\"ticks\":\"\"},\"bgcolor\":\"#E5ECF6\",\"caxis\":{\"gridcolor\":\"white\",\"linecolor\":\"white\",\"ticks\":\"\"}},\"title\":{\"x\":0.05},\"xaxis\":{\"automargin\":true,\"gridcolor\":\"white\",\"linecolor\":\"white\",\"ticks\":\"\",\"title\":{\"standoff\":15},\"zerolinecolor\":\"white\",\"zerolinewidth\":2},\"yaxis\":{\"automargin\":true,\"gridcolor\":\"white\",\"linecolor\":\"white\",\"ticks\":\"\",\"title\":{\"standoff\":15},\"zerolinecolor\":\"white\",\"zerolinewidth\":2}}}},                        {\"responsive\": true}                    ).then(function(){\n",
       "                            \n",
       "var gd = document.getElementById('5808abc9-a9b3-4327-b2cd-381f1830a52e');\n",
       "var x = new MutationObserver(function (mutations, observer) {{\n",
       "        var display = window.getComputedStyle(gd).display;\n",
       "        if (!display || display === 'none') {{\n",
       "            console.log([gd, 'removed!']);\n",
       "            Plotly.purge(gd);\n",
       "            observer.disconnect();\n",
       "        }}\n",
       "}});\n",
       "\n",
       "// Listen for the removal of the full notebook cells\n",
       "var notebookContainer = gd.closest('#notebook-container');\n",
       "if (notebookContainer) {{\n",
       "    x.observe(notebookContainer, {childList: true});\n",
       "}}\n",
       "\n",
       "// Listen for the clearing of the current output cell\n",
       "var outputEl = gd.closest('.output');\n",
       "if (outputEl) {{\n",
       "    x.observe(outputEl, {childList: true});\n",
       "}}\n",
       "\n",
       "                        })                };                });            </script>        </div>"
      ]
     },
     "metadata": {},
     "output_type": "display_data"
    }
   ],
   "source": [
    "fig = px.choropleth(dfiso, locations='ISO Code',\n",
    "                    color='COVID-19 deaths per 100,000 population in 2020', \n",
    "                    hover_name='Country', # column to add to hover information\n",
    "                    color_continuous_scale=px.colors.sequential.Plasma)\n",
    "fig.show()"
   ]
  },
  {
   "cell_type": "markdown",
   "id": "53e2ef61",
   "metadata": {},
   "source": [
    "Maybe a little disappointingly, our Clusters weren't very closely associated with Covid deaths. In fact, it seems like Covid deaths were a relatively minor factor. Being an island was a much more important factor in the clustering specifically for group 4. WHO region was probably critical in creating group 2. Groups zero and 3 are probably closely related to Gini Coeficient or perhaps median age. Group 1 was probably determined by high institutional trust."
   ]
  },
  {
   "cell_type": "code",
   "execution_count": null,
   "id": "9148f056",
   "metadata": {},
   "outputs": [],
   "source": []
  }
 ],
 "metadata": {
  "kernelspec": {
   "display_name": "Python 3",
   "language": "python",
   "name": "python3"
  },
  "language_info": {
   "codemirror_mode": {
    "name": "ipython",
    "version": 3
   },
   "file_extension": ".py",
   "mimetype": "text/x-python",
   "name": "python",
   "nbconvert_exporter": "python",
   "pygments_lexer": "ipython3",
   "version": "3.8.8"
  }
 },
 "nbformat": 4,
 "nbformat_minor": 5
}
